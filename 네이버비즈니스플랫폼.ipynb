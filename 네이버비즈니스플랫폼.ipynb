{
  "nbformat": 4,
  "nbformat_minor": 0,
  "metadata": {
    "colab": {
      "name": "네이버비즈니스플랫폼.ipynb",
      "provenance": [],
      "collapsed_sections": [],
      "authorship_tag": "ABX9TyM/PdEO4xXqO3qsGsXJF/9R",
      "include_colab_link": true
    },
    "kernelspec": {
      "name": "python3",
      "display_name": "Python 3"
    }
  },
  "cells": [
    {
      "cell_type": "markdown",
      "metadata": {
        "id": "view-in-github",
        "colab_type": "text"
      },
      "source": [
        "<a href=\"https://colab.research.google.com/github/Daikoku1/ToyProject/blob/master/%EB%84%A4%EC%9D%B4%EB%B2%84%EB%B9%84%EC%A6%88%EB%8B%88%EC%8A%A4%ED%94%8C%EB%9E%AB%ED%8F%BC.ipynb\" target=\"_parent\"><img src=\"https://colab.research.google.com/assets/colab-badge.svg\" alt=\"Open In Colab\"/></a>"
      ]
    },
    {
      "cell_type": "markdown",
      "metadata": {
        "id": "L2QJ5ikC5jSB",
        "colab_type": "text"
      },
      "source": [
        "# 2번 문제\n"
      ]
    },
    {
      "cell_type": "markdown",
      "metadata": {
        "id": "3b9r1nmC6Smv",
        "colab_type": "text"
      },
      "source": [
        "문제 설명\n",
        "문자열을 압축하는 방법에는 여러 가지가 있습니다. 그중 한가지 방법은 다음과 같습니다.\n",
        "\n",
        "주어진 문자열에서 S라는 문자열이 K 번 반복될 경우 이를 K(S)로 표현할 수 있습니다.\n",
        "예를 들어 문자열이 hihihi인 경우 3(hi)와 같이 표현할 수 있습니다. 또 문자열이 hihihicohihihico라면 2(3(hi)co)와 같이 표현할 수 있습니다.\n",
        "\n",
        "압축된 문자열 compressed가 주어질 때, 원래 문자열을 return 하도록 solution 함수를 완성해주세요.\n",
        "\n",
        "제한사항\n",
        "compressed의 길이는 1 이상 100 이하입니다.\n",
        "compressed는 숫자 '0'~'9', 괄호 '(', ')', 알파벳 소문자로만 이루어진 문자열입니다.\n",
        "compressed는 알파벳 소문자로만 이루어진 문자열을 압축한 문자열입니다.\n",
        "따라서, compressed를 원래 문자열로 복원하면 알파벳 소문자로만 이루어진 문자열이 됩니다.\n",
        "항상 올바르게 압축된 문자열만 입력으로 주어집니다.\n",
        "return 하는 원래 문자열의 길이는 1 이상 1,000 이하입니다.\n",
        "입출력 예\n",
        "compressed\tresult\n",
        "\"3(hi)\"\t\"hihihi\"\n",
        "\"2(3(hi)co)\"\t\"hihihicohihihico\"\n",
        "\"10(p)\"\t\"pppppppppp\"\n",
        "\"2(2(hi)2(co))x2(bo)\"\t\"hihicocohihicocoxbobo\"\n",
        "입출력 예 설명"
      ]
    },
    {
      "cell_type": "code",
      "metadata": {
        "id": "g6pteWpypDpg",
        "colab_type": "code",
        "colab": {}
      },
      "source": [
        "# 네이버 비즈니스 플랫폼 2번 문제\n",
        "import re\n",
        "def solution(compressed):\n",
        "    while re.search('\\d', compressed):\n",
        "        idx_ch = 0\n",
        "        for p in re.finditer('\\d+\\(\\w+\\)', compressed):\n",
        "            s, e, pattern = p.start(), p.end(), p.group(0)\n",
        "            n_p = pattern.split('(')\n",
        "            new_str = int(n_p[0]) * n_p[1][:-1]\n",
        "            compressed = compressed[:s-idx_ch] + new_str + compressed[e-idx_ch:]\n",
        "            idx_ch += (e-s) - len(new_str)\n",
        "    return compressed"
      ],
      "execution_count": 2,
      "outputs": []
    },
    {
      "cell_type": "code",
      "metadata": {
        "id": "G_jRduYby2E8",
        "colab_type": "code",
        "colab": {
          "base_uri": "https://localhost:8080/",
          "height": 35
        },
        "outputId": "cd163650-1a14-4e68-bb40-a8ff833a6f77"
      },
      "source": [
        "compressed = \"3(hi)\"\n",
        "solution(compressed)"
      ],
      "execution_count": 6,
      "outputs": [
        {
          "output_type": "execute_result",
          "data": {
            "application/vnd.google.colaboratory.intrinsic": {
              "type": "string"
            },
            "text/plain": [
              "'hihihi'"
            ]
          },
          "metadata": {
            "tags": []
          },
          "execution_count": 6
        }
      ]
    },
    {
      "cell_type": "code",
      "metadata": {
        "id": "ZAm2ZFTH2Qj6",
        "colab_type": "code",
        "colab": {
          "base_uri": "https://localhost:8080/",
          "height": 35
        },
        "outputId": "c41ef374-6f72-4c54-f4cf-c0cd2eb1fa8c"
      },
      "source": [
        "compressed = \"2(3(hi)co)\"\n",
        "solution(compressed)"
      ],
      "execution_count": 7,
      "outputs": [
        {
          "output_type": "execute_result",
          "data": {
            "application/vnd.google.colaboratory.intrinsic": {
              "type": "string"
            },
            "text/plain": [
              "'hihihicohihihico'"
            ]
          },
          "metadata": {
            "tags": []
          },
          "execution_count": 7
        }
      ]
    },
    {
      "cell_type": "code",
      "metadata": {
        "id": "04FIJ8CG2RoE",
        "colab_type": "code",
        "colab": {
          "base_uri": "https://localhost:8080/",
          "height": 35
        },
        "outputId": "2200aa98-8327-4fdd-fc71-becd310b3046"
      },
      "source": [
        "compressed = \"10(p)\"\n",
        "solution(compressed)"
      ],
      "execution_count": 8,
      "outputs": [
        {
          "output_type": "execute_result",
          "data": {
            "application/vnd.google.colaboratory.intrinsic": {
              "type": "string"
            },
            "text/plain": [
              "'pppppppppp'"
            ]
          },
          "metadata": {
            "tags": []
          },
          "execution_count": 8
        }
      ]
    },
    {
      "cell_type": "code",
      "metadata": {
        "id": "_NNSAPHW2Rtv",
        "colab_type": "code",
        "colab": {
          "base_uri": "https://localhost:8080/",
          "height": 35
        },
        "outputId": "ed357983-96a1-44cb-e2d2-e67c73ac03fc"
      },
      "source": [
        "compressed = \"2(2(hi)2(co))x2(bo)\"\n",
        "solution(compressed)"
      ],
      "execution_count": 9,
      "outputs": [
        {
          "output_type": "execute_result",
          "data": {
            "application/vnd.google.colaboratory.intrinsic": {
              "type": "string"
            },
            "text/plain": [
              "'hihicocohihicocoxbobo'"
            ]
          },
          "metadata": {
            "tags": []
          },
          "execution_count": 9
        }
      ]
    },
    {
      "cell_type": "code",
      "metadata": {
        "id": "XIL_4hyZ2hce",
        "colab_type": "code",
        "colab": {
          "base_uri": "https://localhost:8080/",
          "height": 233
        },
        "outputId": "54c41268-c4f2-4b16-c491-46c68ac9a8f0"
      },
      "source": [
        "compressed = \"2(2(hi)2(co))x2(bo)\"\n",
        "pattern_list = re.finditer('\\d+\\(\\w+\\)', compressed)\n",
        "idx_ch = 0\n",
        "for p in pattern_list:\n",
        "    s, e, pattern = p.start(), p.end(), p.group(0)\n",
        "    print(s,e, pattern)\n",
        "    n_p = pattern.split('(')\n",
        "    new_str = int(n_p[0]) * n_p[1][:-1]\n",
        "    print(new_str)\n",
        "    compressed = compressed[:s-idx_ch] + new_str + compressed[e-idx_ch:]\n",
        "    idx_ch += (e-s) - len(new_str)\n",
        "    print(compressed)\n",
        "    print('-------------------')"
      ],
      "execution_count": 5,
      "outputs": [
        {
          "output_type": "stream",
          "text": [
            "2 7 2(hi)\n",
            "hihi\n",
            "2(hihi2(co))x2(bo)\n",
            "-------------------\n",
            "7 12 2(co)\n",
            "coco\n",
            "2(hihicoco)x2(bo)\n",
            "-------------------\n",
            "14 19 2(bo)\n",
            "bobo\n",
            "2(hihicoco)xbobo\n",
            "-------------------\n"
          ],
          "name": "stdout"
        }
      ]
    },
    {
      "cell_type": "markdown",
      "metadata": {
        "id": "1GrShiWL5fBf",
        "colab_type": "text"
      },
      "source": [
        "# 1번 문제"
      ]
    },
    {
      "cell_type": "markdown",
      "metadata": {
        "id": "jxQmAWMT5o_D",
        "colab_type": "text"
      },
      "source": [
        "로봇이 이동할 수 있는 레일이 설치된 도로가 있습니다. 도로는 일정 크기의 블록으로 나뉘어 있으며, 각 블록에는 '>' 또는 '<' 기호가 표시되어있습니다. 로봇은 블록에 표시된 기호를 인식하여 이동합니다. 만약 '>'가 표시되어있다면 로봇은 1칸 오른쪽으로, '<'가 표시되어있다면 로봇은 1칸 왼쪽으로 이동합니다. 로봇은 도로의 아무 블록에서나 출발할 수 있으며, 로봇의 최종 목표는 도로를 빠져나오는 것입니다. 이때, 로봇이 도로를 빠져나올 수 있는 출발점의 개수를 구하는 것이 목표입니다.\n",
        "\n",
        "예를 들어, 도로가 <<<>< 라면, 1번째 블록, 2번째 블록, 3번째 블록에 로봇을 두면 왼쪽 밖으로 빠져나올 수 있지만, 4번째 블록과 5번째 블록에 로봇을 두면 어느 방향으로도 밖으로 빠져나올 수 없으므로 빠져나올 수 있는 출발점은 1번째 블록, 2번째 블록, 3번째 블록이므로 출발점의 개수는 3개가 됩니다. 도로의 블록에 표시된 기호가 문자열 P로 주어질 때, 도로를 빠져나올 수 있는 출발점의 개수를 return 하는 solution 함수를 완성해 주세요.\n",
        "\n",
        "제한사항\n",
        "P의 길이 : 200,000 이하의 자연수\n",
        "블록에 표시된 기호는 '>' 또는 '<' 로만 주어집니다"
      ]
    },
    {
      "cell_type": "code",
      "metadata": {
        "id": "a_Rg480Z5bXN",
        "colab_type": "code",
        "colab": {
          "base_uri": "https://localhost:8080/",
          "height": 35
        },
        "outputId": "15b6b8f6-18e6-462e-df04-5e39663dd68d"
      },
      "source": [
        "a = '<<<><'\n",
        "a.index('>')"
      ],
      "execution_count": null,
      "outputs": [
        {
          "output_type": "execute_result",
          "data": {
            "text/plain": [
              "3"
            ]
          },
          "metadata": {
            "tags": []
          },
          "execution_count": 51
        }
      ]
    },
    {
      "cell_type": "code",
      "metadata": {
        "id": "VCD31ebB5u30",
        "colab_type": "code",
        "colab": {
          "base_uri": "https://localhost:8080/",
          "height": 35
        },
        "outputId": "60e3c296-c22a-4b37-da0d-921ec3b3db8c"
      },
      "source": [
        "a.rindex('<')"
      ],
      "execution_count": null,
      "outputs": [
        {
          "output_type": "execute_result",
          "data": {
            "text/plain": [
              "4"
            ]
          },
          "metadata": {
            "tags": []
          },
          "execution_count": 52
        }
      ]
    },
    {
      "cell_type": "code",
      "metadata": {
        "id": "5LCOL-_a5xRK",
        "colab_type": "code",
        "colab": {}
      },
      "source": [
        "def solution(P):\n",
        "    length = len(P)\n",
        "    if P == '<' * length or P == '>' * length:\n",
        "        return length\n",
        "    else:\n",
        "        l_index = P.index('>')\n",
        "        r_index = P.rindex('<')\n",
        "        return l_index + (length -1 - r_index)"
      ],
      "execution_count": 3,
      "outputs": []
    },
    {
      "cell_type": "code",
      "metadata": {
        "id": "NjyKACjp6Gnr",
        "colab_type": "code",
        "colab": {
          "base_uri": "https://localhost:8080/",
          "height": 35
        },
        "outputId": "99cf0da6-7a01-4317-d2d8-62b6ade83159"
      },
      "source": [
        "P = '<<<<<'\n",
        "solution(P)"
      ],
      "execution_count": 4,
      "outputs": [
        {
          "output_type": "execute_result",
          "data": {
            "text/plain": [
              "5"
            ]
          },
          "metadata": {
            "tags": []
          },
          "execution_count": 4
        }
      ]
    },
    {
      "cell_type": "code",
      "metadata": {
        "id": "qzvZdcQ_KiDK",
        "colab_type": "code",
        "colab": {
          "base_uri": "https://localhost:8080/",
          "height": 35
        },
        "outputId": "3b0a589e-a81c-4593-c7db-c8e1d6072b85"
      },
      "source": [
        "P ='<<<><'\n",
        "solution(P)"
      ],
      "execution_count": 5,
      "outputs": [
        {
          "output_type": "execute_result",
          "data": {
            "text/plain": [
              "3"
            ]
          },
          "metadata": {
            "tags": []
          },
          "execution_count": 5
        }
      ]
    },
    {
      "cell_type": "markdown",
      "metadata": {
        "id": "nE5JI9e36UQS",
        "colab_type": "text"
      },
      "source": [
        "# 3번 문제\n",
        "사람 N명이 다음과 같은 규칙에 따라 게임을 하려 합니다.\n",
        "\n",
        "모든 사람은 0부터 N - 1까지 번호가 붙어있습니다.\n",
        "모든 사람이 자신을 제외한 다른 사람 중 아무나 한 명을 골라, 손가락으로 가리킵니다.\n",
        "0번 사람이 자연수 중 아무거나 하나를 말합니다.\n",
        "0번 사람부터 시작해서 가리키고 있는 사람으로 넘어가면서 숫자를 하나씩 카운트합니다.\n",
        "즉, 현재 사람이 숫자를 세면, 가리키고 있던 사람으로 차례가 넘어갑니다.\n",
        "다음 사람도 또다시 숫자를 세면서, 가리키고 있던 사람으로 차례를 넘깁니다.\n",
        "위 과정을 반복합니다.\n",
        "0번 사람이 말한 숫자까지 카운트했을 때, 마지막에 지목당한 사람이 벌칙을 받습니다.\n",
        "0번 사람이 말한 숫자 num과 각 사람이 지목한 사람의 번호가 담긴 배열 mark가 매개변수로 주어 질 때, 벌칙을 받는 사람의 번호를 return 하도록 solution 함수를 완성해주세요.\n",
        "\n",
        "제한사항\n",
        "0번 사람이 말하는 숫자 num은 1 이상 2,000,000,000 이하인 자연수 입니다.\n",
        "mark는 0번 사람부터 N - 1 번 사람까지 각 사람이 지목한 사람의 번호가 순서대로 담긴 배열입니다.\n",
        "mark의 길이(게임의 참여하는 사람의 수)는 2명 이상 100,000명 이하 입니다.\n",
        "mark[i]에는 i번 사람이 가리킨 사람의 번호가 들어있으며, 이는 0 이상 N - 1 이하인 정수입니다.\n",
        "즉, mark 배열의 index가 사람의 번호가 되며, 각 원소는 가리킨 사람의 번호입니다.\n",
        "자기 자신을 가리키는 사람은 없습니다.\n",
        "입출력 예\n",
        "num\tmark\tresult\n",
        "3\t[1,2,3,1]\t3\n",
        "5\t[1,2,3,1]\t2\n",
        "입출력 예 설명\n",
        "image\n",
        "\n",
        "입출력 예#1\n",
        "사람 4명이 위 그림처럼 가리키고 있습니다.\n",
        "\n",
        "0번 사람이 1을 세며 1번 사람을 가리킵니다.\n",
        "1번 사람이 2를 세며 2번 사람을 가리킵니다.\n",
        "2번 사람이 3을 세며 3번 사람을 가리킵니다.\n",
        "0번 사람이 말한 숫자 3을 모두 셌을 때, 마지막에 지목된 3번 사람이 벌칙을 받습니다.\n",
        "\n",
        "입출력 예#2\n",
        "사람 4명이 위 그림처럼 가리키고 있습니다.\n",
        "\n",
        "0번 사람이 1을 세며 1번 사람을 가리킵니다.\n",
        "1번 사람이 2를 세며 2번 사람을 가리킵니다.\n",
        "2번 사람이 3을 세며 3번 사람을 가리킵니다.\n",
        "3번 사람이 4를 세며 1번 사람을 가리킵니다.\n",
        "1번 사람이 5를 세며 2번 사람을 가리킵니다.\n",
        "0번 사람이 말한 숫자 5를 모두 셌을 때, 마지막에 지목된 2번 사람이 벌칙을 받습니다.\n"
      ]
    },
    {
      "cell_type": "code",
      "metadata": {
        "id": "D_s6Pwmu6Jqg",
        "colab_type": "code",
        "colab": {}
      },
      "source": [
        "num = 3\n",
        "mark = [1,2,3,1]\n",
        "# result = 3"
      ],
      "execution_count": null,
      "outputs": []
    },
    {
      "cell_type": "code",
      "metadata": {
        "id": "IS5Od5wZ60Y5",
        "colab_type": "code",
        "colab": {}
      },
      "source": [
        "num = 5\n",
        "mark = [1,2,3,1]\n",
        "# result = 2"
      ],
      "execution_count": null,
      "outputs": []
    },
    {
      "cell_type": "code",
      "metadata": {
        "id": "v_hZDCZY6242",
        "colab_type": "code",
        "colab": {}
      },
      "source": [
        "# 시간초과\n",
        "# num의 최대값이 20억;;;\n",
        "def solution(num, mark):\n",
        "    answer = 0\n",
        "    for i in range(num):\n",
        "        answer = mark[answer]\n",
        "    return answer"
      ],
      "execution_count": null,
      "outputs": []
    },
    {
      "cell_type": "code",
      "metadata": {
        "id": "F3NBuvn4hGRS",
        "colab_type": "code",
        "colab": {}
      },
      "source": [
        "num = 2000000000\n",
        "mark = [i+1 for i in range(99999)] + [0]\n",
        "# result = 2"
      ],
      "execution_count": null,
      "outputs": []
    },
    {
      "cell_type": "code",
      "metadata": {
        "id": "g383ZAgDhG4k",
        "colab_type": "code",
        "colab": {
          "base_uri": "https://localhost:8080/",
          "height": 71
        },
        "outputId": "fca3d5ac-9b95-40f3-ac1a-ccd674773745"
      },
      "source": [
        "%time solution(num, mark)"
      ],
      "execution_count": null,
      "outputs": [
        {
          "output_type": "stream",
          "text": [
            "CPU times: user 29.7 ms, sys: 2.94 ms, total: 32.6 ms\n",
            "Wall time: 36.9 ms\n"
          ],
          "name": "stdout"
        },
        {
          "output_type": "execute_result",
          "data": {
            "text/plain": [
              "0"
            ]
          },
          "metadata": {
            "tags": []
          },
          "execution_count": 49
        }
      ]
    },
    {
      "cell_type": "code",
      "metadata": {
        "id": "grXDzfoR62vG",
        "colab_type": "code",
        "colab": {}
      },
      "source": [
        "from collections import defaultdict\n",
        "def solution(num, mark):\n",
        "    num_dict = defaultdict(lambda: -1)\n",
        "    answer = 0\n",
        "    for i in range(num):\n",
        "        if num_dict[answer] == -1:\n",
        "            num_dict[answer] = i\n",
        "        else:\n",
        "            break\n",
        "        answer = mark[answer]\n",
        "    for j in range((num-i) % (i - num_dict[answer])):\n",
        "        answer = mark[answer]\n",
        "    return answer"
      ],
      "execution_count": null,
      "outputs": []
    },
    {
      "cell_type": "code",
      "metadata": {
        "id": "tK19p5Dz87G3",
        "colab_type": "code",
        "colab": {}
      },
      "source": [
        "num = 2000000000\n",
        "mark = [i+1 for i in range(99999)] + [0]"
      ],
      "execution_count": null,
      "outputs": []
    },
    {
      "cell_type": "code",
      "metadata": {
        "id": "_4Dok1n28951",
        "colab_type": "code",
        "colab": {
          "base_uri": "https://localhost:8080/",
          "height": 71
        },
        "outputId": "a308718e-9545-41cc-a38c-9e6570f512c7"
      },
      "source": [
        "%time solution(num, mark)"
      ],
      "execution_count": null,
      "outputs": [
        {
          "output_type": "stream",
          "text": [
            "CPU times: user 48.3 ms, sys: 2 ms, total: 50.3 ms\n",
            "Wall time: 51.1 ms\n"
          ],
          "name": "stdout"
        },
        {
          "output_type": "execute_result",
          "data": {
            "text/plain": [
              "0"
            ]
          },
          "metadata": {
            "tags": []
          },
          "execution_count": 60
        }
      ]
    }
  ]
}