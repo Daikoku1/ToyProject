{
 "cells": [
  {
   "cell_type": "markdown",
   "metadata": {},
   "source": [
    "# More than 1\n",
    "\n",
    "3 개의 int, abc가 주어지고 다른 값들과 둘 다 다른 경우 True를 반환합니다.  \n",
    "다만, abc가 서로 1씩 차이가 나는 경우는 False를 반환하세요.   \n",
    "  \n",
    "함수는   \n",
    "**def close_far(a, b, c):**  \n",
    "로 정의해 주시면 됩니다.    \n",
    "  \n",
    "함수의 예  \n",
    "close_far (1, 2, 10) → True   \n",
    "close_far (1, 2, 3) → False   \n",
    "close_far (4, 1, 3) → True  \n",
    "  \n",
    "출처  \n",
    "https://codingbat.com/prob/p160533  "
   ]
  },
  {
   "cell_type": "code",
   "execution_count": 1,
   "metadata": {},
   "outputs": [],
   "source": [
    "def close_far(a, b, c):\n",
    "    if abs(a-b) == 1 and abs(a-c) == 1:\n",
    "        return False\n",
    "    \n",
    "    if abs(b-a) == 1 and abs(b-c) == 1:\n",
    "        return False\n",
    "    \n",
    "    if abs(c-a) == 1 and abs(c-b) == 1:\n",
    "        return False\n",
    "    \n",
    "    else:\n",
    "        return True"
   ]
  }
 ],
 "metadata": {
  "kernelspec": {
   "display_name": "Python 3",
   "language": "python",
   "name": "python3"
  },
  "language_info": {
   "codemirror_mode": {
    "name": "ipython",
    "version": 3
   },
   "file_extension": ".py",
   "mimetype": "text/x-python",
   "name": "python",
   "nbconvert_exporter": "python",
   "pygments_lexer": "ipython3",
   "version": "3.7.3"
  }
 },
 "nbformat": 4,
 "nbformat_minor": 2
}
