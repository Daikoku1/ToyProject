{
 "cells": [
  {
   "cell_type": "markdown",
   "metadata": {},
   "source": [
    "3 개의 int, abc가 주어지고 다른 값들과 둘 다 다른 경우 True를 반환합니다.  \n",
    "다만, abc가 서로 1씩 차이가 나는 경우는 False를 반환하세요.   \n",
    "  \n",
    "##함수는   \n",
    "def close_far(a, b, c):  \n",
    "로 정의해 주시면 됩니다.  \n",
    "  \n",
    "##참고  abs(num)은 숫자의 절대 값을 계산합니다.  \n",
    "  \n",
    "##함수의 예  \n",
    "close_far (1, 2, 10) → True   \n",
    "close_far (1, 2, 3) → False   \n",
    "close_far (4, 1, 3) → True  \n",
    "\n",
    "  \n",
    "##출처  \n",
    "https://codingbat.com/prob/p160533"
   ]
  },
  {
   "cell_type": "code",
   "execution_count": 10,
   "metadata": {},
   "outputs": [],
   "source": [
    "def close_far(a, b, c):\n",
    "    lst=sorted([a,b,c])\n",
    "    if abs(lst[0]-lst[1])!=1 or abs(lst[1]-lst[2])!=1:\n",
    "        return True\n",
    "    else:\n",
    "        return False"
   ]
  },
  {
   "cell_type": "code",
   "execution_count": null,
   "metadata": {},
   "outputs": [],
   "source": []
  }
 ],
 "metadata": {
  "kernelspec": {
   "display_name": "Python 3",
   "language": "python",
   "name": "python3"
  },
  "language_info": {
   "codemirror_mode": {
    "name": "ipython",
    "version": 3
   },
   "file_extension": ".py",
   "mimetype": "text/x-python",
   "name": "python",
   "nbconvert_exporter": "python",
   "pygments_lexer": "ipython3",
   "version": "3.7.3"
  }
 },
 "nbformat": 4,
 "nbformat_minor": 2
}
