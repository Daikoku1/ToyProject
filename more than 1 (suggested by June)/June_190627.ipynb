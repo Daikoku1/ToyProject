{
 "cells": [
  {
   "cell_type": "code",
   "execution_count": null,
   "metadata": {},
   "outputs": [],
   "source": [
    "def close_far(a, b, c):\n",
    "  if abs(a-b) == 1 and abs(a-c) ==1:\n",
    "    return False\n",
    "  elif abs(a-b) ==1 and abs(b-c) ==1:\n",
    "    return False\n",
    "  elif abs(b-c) ==1 and abs(c-a) ==1:\n",
    "    return False\n",
    "  else:\n",
    "    return True"
   ]
  }
 ],
 "metadata": {
  "kernelspec": {
   "display_name": "Python 3",
   "language": "python",
   "name": "python3"
  },
  "language_info": {
   "codemirror_mode": {
    "name": "ipython",
    "version": 3
   },
   "file_extension": ".py",
   "mimetype": "text/x-python",
   "name": "python",
   "nbconvert_exporter": "python",
   "pygments_lexer": "ipython3",
   "version": "3.6.8"
  }
 },
 "nbformat": 4,
 "nbformat_minor": 2
}
