{
 "cells": [
  {
   "cell_type": "markdown",
   "metadata": {},
   "source": [
    "Given 2 strings, a and b, return the number of the positions where they contain the same length 2 substring.   \n",
    "So \"xxcaazz\" and \"xxbaaz\" yields 3, since the \"xx\", \"aa\", and \"az\" substrings appear in the same place in both strings.  \n",
    "  \n",
    "# try  \n",
    "string_match('xxcaazz', 'xxbaaz')   \n",
    "= 3  \n",
    "string_match('abc', 'abc')  \n",
    "= 2  \n",
    "string_match('abc', 'axc')  \n",
    "= 0  \n",
    "  \n",
    "  \n",
    "# ref  \n",
    "https://codingbat.com/prob/p182414  "
   ]
  },
  {
   "cell_type": "markdown",
   "metadata": {},
   "source": [
    "a와 b가 2 개의 문자열 인 경우 길이가 동일한 하위 문자열이있는 위치의 수를 반환합니다.  \n",
    "따라서 \"xx\", \"aa\"및 \"az\"하위 문자열이 두 문자열의 같은 위치에 나타나므로 \"xxcaazz\"및 \"xxbaaz\"는 3을 생성합니다.  "
   ]
  },
  {
   "cell_type": "markdown",
   "metadata": {},
   "source": [
    "# Concept\n",
    "1. 숫자를 반환해야하니까 += 를 사용하자!  \n",
    "2. 주어지는 두개의 리스트를 슬라이싱을 이용해서 잘라내보자  \n",
    "3. 슬라이싱한 것들을 리스트에 넣고 서로 비교해보자! 만약 같으면 1씩 숫자를 += 하자!  "
   ]
  },
  {
   "cell_type": "code",
   "execution_count": 1,
   "metadata": {},
   "outputs": [],
   "source": [
    "# ref로 검증완료\n",
    "def string_match(a, b):\n",
    "    count = 0\n",
    "    temp_list1 = []\n",
    "    temp_list2 = []\n",
    "\n",
    "    for i in range(len(a)):\n",
    "        if len(a[i:i+2]) > 1:\n",
    "            temp_list1.append(a[i:i+2])            \n",
    "        if len(b[i:i+2]) > 1:    \n",
    "            temp_list2.append(b[i:i+2])\n",
    "\n",
    "    try: \n",
    "        for idx, val in enumerate(temp_list2):\n",
    "            if temp_list1[idx] == temp_list2[idx]:\n",
    "                count += 1\n",
    "    except IndexError:\n",
    "        pass\n",
    "    \n",
    "    return count"
   ]
  },
  {
   "cell_type": "code",
   "execution_count": null,
   "metadata": {},
   "outputs": [],
   "source": []
  }
 ],
 "metadata": {
  "kernelspec": {
   "display_name": "Python 3",
   "language": "python",
   "name": "python3"
  },
  "language_info": {
   "codemirror_mode": {
    "name": "ipython",
    "version": 3
   },
   "file_extension": ".py",
   "mimetype": "text/x-python",
   "name": "python",
   "nbconvert_exporter": "python",
   "pygments_lexer": "ipython3",
   "version": "3.7.3"
  }
 },
 "nbformat": 4,
 "nbformat_minor": 2
}
