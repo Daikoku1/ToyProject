{
 "cells": [
  {
   "cell_type": "code",
   "execution_count": 26,
   "metadata": {},
   "outputs": [],
   "source": [
    "def string_match(str1,str2):\n",
    "    min_len=min(len(str1),len(str2))\n",
    "    num=0\n",
    "    \n",
    "    if min_len<2:\n",
    "        return num\n",
    "    else:\n",
    "        for n in range(1,min_len):\n",
    "            if str1[n-1]==str2[n-1]:\n",
    "                if str1[n]==str2[n]:\n",
    "                    num+=1\n",
    "        return num\n"
   ]
  },
  {
   "cell_type": "code",
   "execution_count": 27,
   "metadata": {},
   "outputs": [
    {
     "name": "stdout",
     "output_type": "stream",
     "text": [
      "3\n",
      "2\n",
      "0\n"
     ]
    }
   ],
   "source": [
    "print(string_match('xxcaazz', 'xxbaaz'))\n",
    "print(string_match('abc', 'abc'))\n",
    "print(string_match('abc', 'axc'))\n",
    "\n"
   ]
  },
  {
   "cell_type": "code",
   "execution_count": null,
   "metadata": {},
   "outputs": [],
   "source": []
  }
 ],
 "metadata": {
  "kernelspec": {
   "display_name": "Python 3",
   "language": "python",
   "name": "python3"
  },
  "language_info": {
   "codemirror_mode": {
    "name": "ipython",
    "version": 3
   },
   "file_extension": ".py",
   "mimetype": "text/x-python",
   "name": "python",
   "nbconvert_exporter": "python",
   "pygments_lexer": "ipython3",
   "version": "3.7.3"
  }
 },
 "nbformat": 4,
 "nbformat_minor": 2
}
