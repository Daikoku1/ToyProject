{
 "cells": [
  {
   "cell_type": "code",
   "execution_count": 21,
   "metadata": {},
   "outputs": [],
   "source": [
    " def string_match(a,b):\n",
    "    cnt=0 #맞는 단어 갯수\n",
    "    i = 2 #비교 문자열의 위치\n",
    "    j = 0 #기존 문자열 위치\n",
    "    try: #문자열 오버할 시(예외상황)\n",
    "        while True:\n",
    "\n",
    "            if i>len(b) : #문자열 오버 할 시\n",
    "                return cnt\n",
    "                break\n",
    "\n",
    "            while True: #문자열 비교\n",
    "                if a[j:].find(b[i-2:i]) == 0 : #substring이 기존 문자열에 없을 때\n",
    "                    j+=1\n",
    "                    cnt+=1\n",
    "                    break\n",
    "                #substring이 기존 문자열에 존재시\n",
    "                else:\n",
    "                    j+=1\n",
    "                    break\n",
    "            i=i+1\n",
    "\n",
    "    except:\n",
    "        return cnt\n"
   ]
  },
  {
   "cell_type": "code",
   "execution_count": 22,
   "metadata": {},
   "outputs": [
    {
     "data": {
      "text/plain": [
       "3"
      ]
     },
     "execution_count": 22,
     "metadata": {},
     "output_type": "execute_result"
    }
   ],
   "source": [
    "string_match('xxcaazz','xxbaaz')"
   ]
  },
  {
   "cell_type": "code",
   "execution_count": 23,
   "metadata": {},
   "outputs": [
    {
     "data": {
      "text/plain": [
       "2"
      ]
     },
     "execution_count": 23,
     "metadata": {},
     "output_type": "execute_result"
    }
   ],
   "source": [
    "string_match('abc','abc')"
   ]
  },
  {
   "cell_type": "code",
   "execution_count": 24,
   "metadata": {},
   "outputs": [
    {
     "data": {
      "text/plain": [
       "0"
      ]
     },
     "execution_count": 24,
     "metadata": {},
     "output_type": "execute_result"
    }
   ],
   "source": [
    "string_match('abc','axc')"
   ]
  },
  {
   "cell_type": "code",
   "execution_count": null,
   "metadata": {},
   "outputs": [],
   "source": []
  }
 ],
 "metadata": {
  "kernelspec": {
   "display_name": "Python 3",
   "language": "python",
   "name": "python3"
  },
  "language_info": {
   "codemirror_mode": {
    "name": "ipython",
    "version": 3
   },
   "file_extension": ".py",
   "mimetype": "text/x-python",
   "name": "python",
   "nbconvert_exporter": "python",
   "pygments_lexer": "ipython3",
   "version": "3.6.6"
  }
 },
 "nbformat": 4,
 "nbformat_minor": 2
}
