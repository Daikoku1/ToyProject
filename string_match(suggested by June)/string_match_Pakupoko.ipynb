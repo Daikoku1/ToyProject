{
 "cells": [
  {
   "cell_type": "code",
   "execution_count": 13,
   "metadata": {},
   "outputs": [],
   "source": [
    " def string_match(a,b):\n",
    "    cnt=0 #맞는 단어 갯수\n",
    "    i = 2 #비교 문자열의 위치\n",
    "    j = 0 #기존 문자열 위치\n",
    "    new_a=a\n",
    "    try: #문자열 오버할 시(예외상황)\n",
    "        while True:\n",
    "            \n",
    "            if i>len(b) : #문자열 오버 할 시\n",
    "                return cnt\n",
    "            \n",
    "            while True: #문자열 비교\n",
    "                if new_a.find(b[i-2:i]) == -1 : #substring이 기존 문자열에 없을 때\n",
    "                    new_a=a\n",
    "                    break\n",
    "                    \n",
    "                #substring이 기존 문자열에 존재시\n",
    "                j=a.find(b[i-2:i]) + 1\n",
    "                new_a=new_a[j:]\n",
    "                cnt+=1\n",
    "\n",
    "            i=i+1\n",
    "        \n",
    "    except:\n",
    "        return cnt\n"
   ]
  },
  {
   "cell_type": "code",
   "execution_count": 14,
   "metadata": {},
   "outputs": [
    {
     "data": {
      "text/plain": [
       "3"
      ]
     },
     "execution_count": 14,
     "metadata": {},
     "output_type": "execute_result"
    }
   ],
   "source": [
    "string_match('xxcaazz','xxbaaz')"
   ]
  },
  {
   "cell_type": "code",
   "execution_count": 15,
   "metadata": {},
   "outputs": [
    {
     "data": {
      "text/plain": [
       "2"
      ]
     },
     "execution_count": 15,
     "metadata": {},
     "output_type": "execute_result"
    }
   ],
   "source": [
    "string_match('abc','abc')"
   ]
  },
  {
   "cell_type": "code",
   "execution_count": null,
   "metadata": {},
   "outputs": [],
   "source": [
    "string_match('abc','xxbaaz')"
   ]
  }
 ],
 "metadata": {
  "kernelspec": {
   "display_name": "Python 3",
   "language": "python",
   "name": "python3"
  },
  "language_info": {
   "codemirror_mode": {
    "name": "ipython",
    "version": 3
   },
   "file_extension": ".py",
   "mimetype": "text/x-python",
   "name": "python",
   "nbconvert_exporter": "python",
   "pygments_lexer": "ipython3",
   "version": "3.6.6"
  }
 },
 "nbformat": 4,
 "nbformat_minor": 2
}
