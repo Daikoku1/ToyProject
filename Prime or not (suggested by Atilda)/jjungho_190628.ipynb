{
 "cells": [
  {
   "cell_type": "markdown",
   "metadata": {},
   "source": [
    "# 소수 판별\n",
    "값을 하나 입력 받아 해당 값이 소수(prime number)인지 아닌지 확인하는 코드 짜기"
   ]
  },
  {
   "cell_type": "markdown",
   "metadata": {},
   "source": [
    "**소수란?**\n",
    "  \n",
    "자신보다 작은 두 개의 자연수를 곱하여 만들 수 없는 1보다 큰 자연수이다. "
   ]
  },
  {
   "cell_type": "code",
   "execution_count": 16,
   "metadata": {},
   "outputs": [
    {
     "name": "stdout",
     "output_type": "stream",
     "text": [
      "값을 입력하세요: 7\n",
      "[1, 7]\n",
      "소수 입니다.\n"
     ]
    }
   ],
   "source": [
    "\"\"\"\n",
    "Concept \n",
    "소수는 1과 자기 자신만을 약수로 가진다.\n",
    "자신이 포함되는 범위에서 for문을 돌리면서, \n",
    "나머지가 0이 되는 값들을 리스트에 추가시킨다.\n",
    "그리고 리스트의 개수가 2개 되는 것만 소수로 판별한다.\n",
    "\"\"\"\n",
    "\n",
    "num = int(input(\"값을 입력하세요: \")) # 입력 받을 값\n",
    "check_list = [] # 빈 리스트 생성\n",
    "\n",
    "for i in range(1, num+1): # 1부터 자기 자신까지의 범위에서 for문을 돌림\n",
    "    if num % i == 0: # 만약 입력 값을 i로 나눈 나머지가 0이라면,\n",
    "        check_list.append(i) # 리스트에 추가\n",
    "print(check_list) # 리스트의 내용물 확인\n",
    "\n",
    "if len(check_list) == 2: # 만약 리스트의 개수가 2라면,\n",
    "    print(\"소수 입니다.\") # 소수입니다.\n",
    "    \n",
    "else: # 아니면,\n",
    "    print(\"소수가 아닙니다.\") # 소수가 아닙니다."
   ]
  },
  {
   "cell_type": "code",
   "execution_count": null,
   "metadata": {},
   "outputs": [],
   "source": []
  }
 ],
 "metadata": {
  "kernelspec": {
   "display_name": "Python 3",
   "language": "python",
   "name": "python3"
  },
  "language_info": {
   "codemirror_mode": {
    "name": "ipython",
    "version": 3
   },
   "file_extension": ".py",
   "mimetype": "text/x-python",
   "name": "python",
   "nbconvert_exporter": "python",
   "pygments_lexer": "ipython3",
   "version": "3.7.3"
  }
 },
 "nbformat": 4,
 "nbformat_minor": 2
}
