{
 "cells": [
  {
   "cell_type": "code",
   "execution_count": 39,
   "metadata": {},
   "outputs": [
    {
     "name": "stdout",
     "output_type": "stream",
     "text": [
      "소수인지 아닌지 알고 싶은 숫자를 입력해라 애송이13\n",
      "애송이. 소수를 입력했구나\n"
     ]
    }
   ],
   "source": [
    "# 값을 하나 입력 받아 해당 값이 소수(prime number)인지 아닌지 확인하는 코드 짜기\n",
    "number = int(input(\"소수인지 아닌지 알고 싶은 숫자를 입력해라 애송이\"))\n",
    "zerolist = []\n",
    "def check_nb(number):\n",
    "    for idx in range(2, number+1):\n",
    "        a = number % idx \n",
    "        if a == 0:\n",
    "            zerolist.append(a)\n",
    "        else:\n",
    "            pass\n",
    "check_nb(number)\n",
    "if len(zerolist) >= 2:\n",
    "    print(\"소수가 아니다\")\n",
    "elif len(zerolist) == 1:\n",
    "    print(\"애송이. 소수를 입력했구나\")\n",
    "else:\n",
    "    print(\"음수, 0 , 1은 포함되지 않는다.\")\n"
   ]
  }
 ],
 "metadata": {
  "kernelspec": {
   "display_name": "Python 3",
   "language": "python",
   "name": "python3"
  },
  "language_info": {
   "codemirror_mode": {
    "name": "ipython",
    "version": 3
   },
   "file_extension": ".py",
   "mimetype": "text/x-python",
   "name": "python",
   "nbconvert_exporter": "python",
   "pygments_lexer": "ipython3",
   "version": "3.6.8"
  }
 },
 "nbformat": 4,
 "nbformat_minor": 2
}
