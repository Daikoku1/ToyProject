{
 "cells": [
  {
   "cell_type": "code",
   "execution_count": 82,
   "metadata": {},
   "outputs": [],
   "source": [
    "#값을 하나 입력 받아 해당 값이 소수(prime number)인지 아닌지 확인하는 코드 짜기\n",
    "\n",
    "\n",
    "def isPrime(number):\n",
    "    list = []\n",
    "    for a in range(1, number + 1):\n",
    "        if  (number % a == number) or (number % a == 0):\n",
    "            list.append(a);  \n",
    "        else:\n",
    "            pass;\n",
    "\n",
    "    print(list)\n",
    "\n",
    "    if len(list) == 2:\n",
    "        isPrime = True;\n",
    "    elif number == 1:\n",
    "        isPrime = True;\n",
    "    else:\n",
    "        isPrime = False;\n",
    "\n",
    "    return isPrime;"
   ]
  },
  {
   "cell_type": "code",
   "execution_count": 83,
   "metadata": {},
   "outputs": [
    {
     "name": "stdout",
     "output_type": "stream",
     "text": [
      "숫자 입력하시오: 12\n",
      "[1, 2, 3, 4, 6, 12]\n"
     ]
    },
    {
     "data": {
      "text/plain": [
       "False"
      ]
     },
     "execution_count": 83,
     "metadata": {},
     "output_type": "execute_result"
    }
   ],
   "source": [
    "number = int(input('숫자 입력하시오: '))\n",
    "isPrime(number)"
   ]
  },
  {
   "cell_type": "code",
   "execution_count": null,
   "metadata": {},
   "outputs": [],
   "source": [
    "\n"
   ]
  },
  {
   "cell_type": "code",
   "execution_count": null,
   "metadata": {},
   "outputs": [],
   "source": []
  }
 ],
 "metadata": {
  "kernelspec": {
   "display_name": "Python 3",
   "language": "python",
   "name": "python3"
  },
  "language_info": {
   "codemirror_mode": {
    "name": "ipython",
    "version": 3
   },
   "file_extension": ".py",
   "mimetype": "text/x-python",
   "name": "python",
   "nbconvert_exporter": "python",
   "pygments_lexer": "ipython3",
   "version": "3.7.3"
  }
 },
 "nbformat": 4,
 "nbformat_minor": 2
}
