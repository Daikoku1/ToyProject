{
 "cells": [
  {
   "cell_type": "markdown",
   "metadata": {},
   "source": [
    "first_rec  \n",
    "주어진 String에서 For문을 한번만 사용하여 처음으로 반복되는 글자를 반환하시오  \n",
    "ex  \n",
    "first_rec(\"ekgeb\")  \n",
    " e  \n",
    "first_rec(\"gkbewlb\")  \n",
    "b  \n",
    "first_rec(\"abba\")  \n",
    "b  "
   ]
  },
  {
   "cell_type": "code",
   "execution_count": 61,
   "metadata": {},
   "outputs": [],
   "source": [
    "def first_rec(string):\n",
    "    lst=list(string)\n",
    "    for n in range(1,len(string)+1):\n",
    "        str_set=set(lst[:n])\n",
    "        if len(str_set)!=len(lst[:n]):\n",
    "            return lst[:n][-1]    "
   ]
  },
  {
   "cell_type": "code",
   "execution_count": 62,
   "metadata": {},
   "outputs": [
    {
     "name": "stdout",
     "output_type": "stream",
     "text": [
      "e\n",
      "b\n",
      "b\n"
     ]
    }
   ],
   "source": [
    "print(first_rec(\"ekgeb\"))\n",
    "print(first_rec(\"gkbewlb\"))\n",
    "print(first_rec(\"abba\"))\n"
   ]
  },
  {
   "cell_type": "code",
   "execution_count": null,
   "metadata": {},
   "outputs": [],
   "source": []
  }
 ],
 "metadata": {
  "kernelspec": {
   "display_name": "Python 3",
   "language": "python",
   "name": "python3"
  },
  "language_info": {
   "codemirror_mode": {
    "name": "ipython",
    "version": 3
   },
   "file_extension": ".py",
   "mimetype": "text/x-python",
   "name": "python",
   "nbconvert_exporter": "python",
   "pygments_lexer": "ipython3",
   "version": "3.7.3"
  }
 },
 "nbformat": 4,
 "nbformat_minor": 2
}
