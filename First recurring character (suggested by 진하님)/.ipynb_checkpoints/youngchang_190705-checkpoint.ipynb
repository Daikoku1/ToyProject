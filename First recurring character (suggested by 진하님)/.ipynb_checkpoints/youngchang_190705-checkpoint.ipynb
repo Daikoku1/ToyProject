{
 "cells": [
  {
   "cell_type": "code",
   "execution_count": 1,
   "metadata": {},
   "outputs": [],
   "source": [
    "def first_rec(s):\n",
    "    for i in range(2,len(s)+1):\n",
    "        if len(list(s[:i]))>len(set(list(s[:i]))):\n",
    "            return s[i-1]"
   ]
  },
  {
   "cell_type": "code",
   "execution_count": 2,
   "metadata": {},
   "outputs": [
    {
     "name": "stdout",
     "output_type": "stream",
     "text": [
      "e\n",
      "b\n",
      "b\n"
     ]
    }
   ],
   "source": [
    "print(first_rec(\"ekgeb\"))\n",
    "print(first_rec(\"gkbewlb\"))\n",
    "print(first_rec(\"abba\"))"
   ]
  },
  {
   "cell_type": "code",
   "execution_count": null,
   "metadata": {},
   "outputs": [],
   "source": []
  }
 ],
 "metadata": {
  "kernelspec": {
   "display_name": "Python 3",
   "language": "python",
   "name": "python3"
  },
  "language_info": {
   "codemirror_mode": {
    "name": "ipython",
    "version": 3
   },
   "file_extension": ".py",
   "mimetype": "text/x-python",
   "name": "python",
   "nbconvert_exporter": "python",
   "pygments_lexer": "ipython3",
   "version": "3.7.3"
  }
 },
 "nbformat": 4,
 "nbformat_minor": 2
}
