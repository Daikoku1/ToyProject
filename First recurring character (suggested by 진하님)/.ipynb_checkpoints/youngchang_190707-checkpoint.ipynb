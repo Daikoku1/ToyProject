{
 "cells": [
  {
   "cell_type": "markdown",
   "metadata": {},
   "source": [
    "# jjungho님 아이디어 참고했습니다."
   ]
  },
  {
   "cell_type": "code",
   "execution_count": 1,
   "metadata": {},
   "outputs": [],
   "source": [
    "def first_rec(s):\n",
    "    import pandas as pd\n",
    "    \n",
    "    letters = []\n",
    "    first_idx = []\n",
    "    second_idx = []\n",
    "\n",
    "    i = 0\n",
    "    while True:\n",
    "        letter = list(s)[i]\n",
    "        for idx, other_letter in enumerate(list(s)[i+1:]):\n",
    "            if letter == other_letter:\n",
    "                letters.append(letter)\n",
    "                first_idx.append(i)\n",
    "                second_idx.append(idx+i+1)\n",
    "        i += 1\n",
    "        \n",
    "        if len(s) == i:\n",
    "            break\n",
    "        \n",
    "    df = pd.DataFrame({'letter' : letters,\n",
    "                      'first_idx' : first_idx,\n",
    "                      'second_idx' : second_idx})\n",
    "    \n",
    "    df_sorted = df.sort_values(by = 'second_idx')\n",
    "    target = df_sorted.iloc[0,0]\n",
    "    \n",
    "    return target"
   ]
  },
  {
   "cell_type": "code",
   "execution_count": 2,
   "metadata": {},
   "outputs": [
    {
     "name": "stdout",
     "output_type": "stream",
     "text": [
      "e\n",
      "b\n",
      "b\n",
      "g\n"
     ]
    }
   ],
   "source": [
    "print(first_rec(\"ekgeb\"))\n",
    "print(first_rec(\"gkbewlb\"))\n",
    "print(first_rec(\"abba\"))\n",
    "print(first_rec(\"abcdefggfedcbaa\"))"
   ]
  }
 ],
 "metadata": {
  "kernelspec": {
   "display_name": "Python 3",
   "language": "python",
   "name": "python3"
  },
  "language_info": {
   "codemirror_mode": {
    "name": "ipython",
    "version": 3
   },
   "file_extension": ".py",
   "mimetype": "text/x-python",
   "name": "python",
   "nbconvert_exporter": "python",
   "pygments_lexer": "ipython3",
   "version": "3.7.3"
  }
 },
 "nbformat": 4,
 "nbformat_minor": 2
}
