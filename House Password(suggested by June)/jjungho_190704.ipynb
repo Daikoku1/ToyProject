{
 "cells": [
  {
   "cell_type": "markdown",
   "metadata": {},
   "source": [
    "Stephan and Sophia forget about security and use simple passwords for everything. Help Nikola develop a password security check module.   \n",
    "The password will be considered strong enough if its length is greater than or equal to 10 symbols, it has at least one digit,   \n",
    "as well as containing one uppercase letter and one lowercase letter in it. The password contains only ASCII latin letters or digits.  \n",
    "  \n",
    "Input: A password as a string.  \n",
    "  \n",
    "Output: Is the password safe or not as a boolean or any data type that can be converted and processed as a boolean. In the results you will see the converted results.  \n",
    "  \n",
    "Example:  \n",
    "  \n",
    "checkio('A1213pokl') == False  \n",
    "checkio('bAse730onE') == True  \n",
    "checkio('asasasasasasasaas') == False  \n",
    "checkio('QWERTYqwerty') == False  \n",
    "checkio('123456123456') == False  \n",
    "checkio('QwErTy911poqqqq') == True  \n",
    "  \n",
    "ref:  \n",
    "https://py.checkio.org/en/mission/house-password/  "
   ]
  },
  {
   "cell_type": "markdown",
   "metadata": {},
   "source": [
    "# Concept\n",
    "1. pw를 검증해보자   \n",
    "2. 숫자, 소문자, 대문자가 반드시 포함된 10개 이상의 문자열만 True로 반환해보자!  \n",
    "3. 일단 길이가 10개 안되면 False  \n",
    "4. 그다음에 검증되면 True  \n",
    "4-1. 있으면 1, 없으면 0으로 검증해보자   \n",
    "5. 그 외는 False  "
   ]
  },
  {
   "cell_type": "markdown",
   "metadata": {},
   "source": [
    "## 코드 작성\n",
    "word list도 필요없지 않을까? **어 필요없어**   \n",
    "continue도 필요없지 않을까? **어 필요해**    "
   ]
  },
  {
   "cell_type": "code",
   "execution_count": 1,
   "metadata": {},
   "outputs": [],
   "source": [
    "# ref로 검증완료\n",
    "def checkio(pw):\n",
    "    num = 0\n",
    "    lower = 0\n",
    "    upper = 0\n",
    "    numlist = ['1', '2', '3', '4', '5',\\\n",
    "               '6', '7', '8', '9', '0']\n",
    "\n",
    "    if len(pw) < 10:\n",
    "        return False\n",
    "\n",
    "    for i in range(len(pw)):\n",
    "        if pw[i:i+1] in numlist:\n",
    "            num = 1\n",
    "            continue\n",
    "        if pw[i:i+1].isupper() == False:\n",
    "            lower = 1\n",
    "            continue\n",
    "        if pw[i:i+1].isupper():\n",
    "            upper = 1\n",
    "            continue\n",
    "            \n",
    "    if num + lower + upper == 3:\n",
    "        return True\n",
    "    else:\n",
    "        return False"
   ]
  },
  {
   "cell_type": "code",
   "execution_count": null,
   "metadata": {},
   "outputs": [],
   "source": []
  }
 ],
 "metadata": {
  "kernelspec": {
   "display_name": "Python 3",
   "language": "python",
   "name": "python3"
  },
  "language_info": {
   "codemirror_mode": {
    "name": "ipython",
    "version": 3
   },
   "file_extension": ".py",
   "mimetype": "text/x-python",
   "name": "python",
   "nbconvert_exporter": "python",
   "pygments_lexer": "ipython3",
   "version": "3.7.3"
  }
 },
 "nbformat": 4,
 "nbformat_minor": 2
}
