{
 "cells": [
  {
   "cell_type": "markdown",
   "metadata": {},
   "source": [
    "Stephan and Sophia forget about security and use simple passwords for everything. Help Nikola develop a password security check module.   \n",
    "The password will be considered strong enough if its length is greater than or equal to 10 symbols, it has at least one digit,   \n",
    "as well as containing one uppercase letter and one lowercase letter in it. The password contains only ASCII latin letters or digits.  \n",
    "\n",
    "Input: A password as a string.  \n",
    "\n",
    "Output: Is the password safe or not as a boolean or any data type that can be converted and processed as a boolean. In the results you will see the converted results.  \n",
    "\n",
    "Example:  \n",
    "\n",
    "checkio('A1213pokl') == False  \n",
    "checkio('bAse730onE') == True  \n",
    "checkio('asasasasasasasaas') == False  \n",
    "checkio('QWERTYqwerty') == False  \n",
    "checkio('123456123456') == False  \n",
    "checkio('QwErTy911poqqqq') == True  "
   ]
  },
  {
   "cell_type": "code",
   "execution_count": 1,
   "metadata": {},
   "outputs": [],
   "source": [
    "def check_pw(pw):\n",
    "    if len(pw)<10:\n",
    "        return False\n",
    "    else:\n",
    "        lst=sorted(list(pw))\n",
    "        try: \n",
    "            if type(int(lst[-1]))==int:\n",
    "                return False\n",
    "        except:\n",
    "            try:\n",
    "                if type(int(lst[0])) == int and lst[-1].isupper() ==False:\n",
    "                    for n in lst:\n",
    "                        if n.isupper():\n",
    "                            return True \n",
    "                            break\n",
    "                else:\n",
    "                    return False\n",
    "            except:\n",
    "                return False\n"
   ]
  },
  {
   "cell_type": "code",
   "execution_count": 2,
   "metadata": {},
   "outputs": [
    {
     "name": "stdout",
     "output_type": "stream",
     "text": [
      "False\n",
      "True\n",
      "False\n",
      "False\n",
      "False\n",
      "True\n"
     ]
    }
   ],
   "source": [
    "print(check_pw('A1213pokl'))\n",
    "print(check_pw('bAse730onE'))\n",
    "print(check_pw('asasasasasasasaas'))\n",
    "print(check_pw('QWERTYqwerty'))\n",
    "print(check_pw('123456123456'))\n",
    "print(check_pw('QwErTy911poqqqq'))"
   ]
  },
  {
   "cell_type": "code",
   "execution_count": null,
   "metadata": {},
   "outputs": [],
   "source": []
  }
 ],
 "metadata": {
  "kernelspec": {
   "display_name": "Python 3",
   "language": "python",
   "name": "python3"
  },
  "language_info": {
   "codemirror_mode": {
    "name": "ipython",
    "version": 3
   },
   "file_extension": ".py",
   "mimetype": "text/x-python",
   "name": "python",
   "nbconvert_exporter": "python",
   "pygments_lexer": "ipython3",
   "version": "3.7.3"
  }
 },
 "nbformat": 4,
 "nbformat_minor": 2
}
