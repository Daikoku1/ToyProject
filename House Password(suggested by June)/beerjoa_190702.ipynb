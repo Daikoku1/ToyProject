{
 "cells": [
  {
   "cell_type": "code",
   "execution_count": 21,
   "metadata": {},
   "outputs": [],
   "source": [
    "def housePassword(inputStr):\n",
    "    if len(inputStr)<10:\n",
    "        return False\n",
    "    else:\n",
    "        chklist = [False, False, False]\n",
    "        for i in inputStr:\n",
    "            if(ord(i)>=48 and ord(i)<=57): # 0~9의 아스키코드 \n",
    "                chklist[0] = True\n",
    "            if(ord(i)>=65 and ord(i)<=90): # A~Z의 아스키코드 \n",
    "                chklist[1] = True\n",
    "            if(ord(i)>=97 and ord(i)<=122): # a~z의 아스키코드 \n",
    "                chklist[2] = True\n",
    "    return not False in chklist"
   ]
  },
  {
   "cell_type": "code",
   "execution_count": 22,
   "metadata": {},
   "outputs": [
    {
     "name": "stdout",
     "output_type": "stream",
     "text": [
      "False\n",
      "True\n",
      "False\n",
      "False\n",
      "False\n",
      "True\n"
     ]
    }
   ],
   "source": [
    "print(housePassword('A1213pokl'))# == False\n",
    "print(housePassword('bAse730onE'))# == True\n",
    "print(housePassword('asasasasasasasaas'))# == False\n",
    "print(housePassword('QWERTYqwerty'))# == False\n",
    "print(housePassword('123456123456'))# == False\n",
    "print(housePassword('QwErTy911poqqqq'))# == True"
   ]
  }
 ],
 "metadata": {
  "kernelspec": {
   "display_name": "Python 3",
   "language": "python",
   "name": "python3"
  },
  "language_info": {
   "codemirror_mode": {
    "name": "ipython",
    "version": 3
   },
   "file_extension": ".py",
   "mimetype": "text/x-python",
   "name": "python",
   "nbconvert_exporter": "python",
   "pygments_lexer": "ipython3",
   "version": "3.7.3"
  }
 },
 "nbformat": 4,
 "nbformat_minor": 2
}
