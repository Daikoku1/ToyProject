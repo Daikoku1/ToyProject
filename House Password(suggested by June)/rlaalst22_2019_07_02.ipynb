{
 "cells": [
  {
   "cell_type": "code",
   "execution_count": 19,
   "metadata": {},
   "outputs": [],
   "source": [
    "def checkio(a):\n",
    "    num = 0\n",
    "    lower = 0\n",
    "    upper = 0\n",
    "    if len(a) >= 10:\n",
    "        for i in a:\n",
    "            try:\n",
    "                if int(i):\n",
    "                    num = 1\n",
    "            except:\n",
    "                if i.islower():\n",
    "                    lower = 1\n",
    "                elif i.isupper():\n",
    "                    upper = 1\n",
    "        if num + lower + upper == 3:\n",
    "            return True\n",
    "    else:\n",
    "        return False"
   ]
  },
  {
   "cell_type": "code",
   "execution_count": 20,
   "metadata": {},
   "outputs": [
    {
     "data": {
      "text/plain": [
       "True"
      ]
     },
     "execution_count": 20,
     "metadata": {},
     "output_type": "execute_result"
    }
   ],
   "source": [
    "checkio('sdfF123sDSA')"
   ]
  },
  {
   "cell_type": "code",
   "execution_count": null,
   "metadata": {},
   "outputs": [],
   "source": []
  }
 ],
 "metadata": {
  "kernelspec": {
   "display_name": "Python 3",
   "language": "python",
   "name": "python3"
  },
  "language_info": {
   "codemirror_mode": {
    "name": "ipython",
    "version": 3
   },
   "file_extension": ".py",
   "mimetype": "text/x-python",
   "name": "python",
   "nbconvert_exporter": "python",
   "pygments_lexer": "ipython3",
   "version": "3.6.8"
  }
 },
 "nbformat": 4,
 "nbformat_minor": 2
}
