{
 "cells": [
  {
   "cell_type": "markdown",
   "metadata": {},
   "source": [
    "# Count Code"
   ]
  },
  {
   "cell_type": "markdown",
   "metadata": {},
   "source": [
    "문자열 \"code\"가 주어진 문자열의 어느 위치 에나 나타나는 횟수를 반환합니다.  \n",
    "단, 'd'에 대한 문자는 허용되므로 \"cope\"및 \"cooe\"과 같은 문자들도 가능합니다.\n",
    "  \n",
    "#### execution code 예  \n",
    "count_code ( 'aaacodebbb') → 1  \n",
    "count_code ( 'codexxcode') → 2  \n",
    "count_code ( 'cozexxcope') → 2  \n"
   ]
  },
  {
   "cell_type": "code",
   "execution_count": 1,
   "metadata": {},
   "outputs": [],
   "source": [
    "def count_code(string): # string을 인자로 받는 함수생성\n",
    "    count = 0 # count 번호 정의\n",
    "    \n",
    "    for i in [\n",
    "        'a', 'b', 'c', 'd', 'e', 'f', 'g',\n",
    "        'h', 'i', 'j', 'k', 'l', 'm', 'n',\n",
    "        'o', 'p', 'q', 'r', 's', 't', 'u',\n",
    "        'v', 'w', 'x', 'y', 'z'\n",
    "             ]: # for문을 돌면서 알파벳을 하나씩 가져오는 i\n",
    "        code = ('co'+i+'e') # 코드조합. code는 coae... cobe... ... ...coze         \n",
    "        \n",
    "        if code in string: # 만약 코드가 string 안에 있다면,            \n",
    "            count += string.count(code) # count합니다. \n",
    "                \n",
    "                \n",
    "    return count"
   ]
  },
  {
   "cell_type": "code",
   "execution_count": 2,
   "metadata": {},
   "outputs": [
    {
     "name": "stdout",
     "output_type": "stream",
     "text": [
      "3\n",
      "1\n",
      "3\n",
      "2\n",
      "3\n"
     ]
    }
   ],
   "source": [
    "print(count_code('codeaacodeabcode')) # code 3개 \n",
    "print(count_code('code')) # code 한개\n",
    "print(count_code('AAcodeBBcoleCCccoreDD')) # code, cole, core\n",
    "print(count_code('AAcodeBBcoleCCccorfDD')) # code, cole\n",
    "print(count_code('coAcodeBcoleccoreDD')) # code, cole, core"
   ]
  }
 ],
 "metadata": {
  "kernelspec": {
   "display_name": "Python 3",
   "language": "python",
   "name": "python3"
  },
  "language_info": {
   "codemirror_mode": {
    "name": "ipython",
    "version": 3
   },
   "file_extension": ".py",
   "mimetype": "text/x-python",
   "name": "python",
   "nbconvert_exporter": "python",
   "pygments_lexer": "ipython3",
   "version": "3.7.3"
  }
 },
 "nbformat": 4,
 "nbformat_minor": 2
}
