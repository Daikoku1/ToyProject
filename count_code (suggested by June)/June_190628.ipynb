{
 "cells": [
  {
   "cell_type": "code",
   "execution_count": 1,
   "metadata": {},
   "outputs": [],
   "source": [
    "def count_code(str):\n",
    "  list1=['coae','cobe','coce','coee','cofe','coge','cohe','coie','coje','coke',\n",
    "         'cole','come','cone','cooe','cope','coqe','core','cose','cote','coue',\n",
    "         'cove','cowe','coxe','coye','coze']\n",
    "  a = str.count('code')\n",
    "  b = 0\n",
    "  for idx in range(0,len(list1)):\n",
    "    b += str.count(list1[idx])\n",
    "  return a+b"
   ]
  }
 ],
 "metadata": {
  "kernelspec": {
   "display_name": "Python 3",
   "language": "python",
   "name": "python3"
  },
  "language_info": {
   "codemirror_mode": {
    "name": "ipython",
    "version": 3
   },
   "file_extension": ".py",
   "mimetype": "text/x-python",
   "name": "python",
   "nbconvert_exporter": "python",
   "pygments_lexer": "ipython3",
   "version": "3.6.8"
  }
 },
 "nbformat": 4,
 "nbformat_minor": 2
}
