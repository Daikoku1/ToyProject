{
 "cells": [
  {
   "cell_type": "code",
   "execution_count": 29,
   "metadata": {},
   "outputs": [
    {
     "name": "stdout",
     "output_type": "stream",
     "text": [
      "정수를 입력하세요2\n",
      "소수입니다.\n"
     ]
    }
   ],
   "source": [
    "num = int(input('정수를 입력하세요'))\n",
    "if num <= 0:\n",
    "    print('양수 입력하세요')\n",
    "elif num == 2:\n",
    "    print('소수입니다.')\n",
    "else:\n",
    "    for i in range(2,num-1):\n",
    "        if num%i == 0:\n",
    "            print('소수가 아닙니다.')\n",
    "            id_prime =1\n",
    "            break\n",
    "        id_prime = 0\n",
    "    if id_prime == 0:\n",
    "        print('소수입니다.')\n",
    "\n"
   ]
  },
  {
   "cell_type": "code",
   "execution_count": null,
   "metadata": {},
   "outputs": [],
   "source": []
  },
  {
   "cell_type": "code",
   "execution_count": null,
   "metadata": {},
   "outputs": [],
   "source": []
  }
 ],
 "metadata": {
  "kernelspec": {
   "display_name": "Python 3",
   "language": "python",
   "name": "python3"
  },
  "language_info": {
   "codemirror_mode": {
    "name": "ipython",
    "version": 3
   },
   "file_extension": ".py",
   "mimetype": "text/x-python",
   "name": "python",
   "nbconvert_exporter": "python",
   "pygments_lexer": "ipython3",
   "version": "3.7.3"
  }
 },
 "nbformat": 4,
 "nbformat_minor": 2
}
