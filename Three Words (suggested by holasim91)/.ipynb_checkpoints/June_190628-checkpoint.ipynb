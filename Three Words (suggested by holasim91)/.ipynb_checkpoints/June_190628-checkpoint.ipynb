{
 "cells": [
  {
   "cell_type": "markdown",
   "metadata": {},
   "source": [
    "### Let's teach the Robots to distinguish words and numbers.\n",
    "You are given a string with words and numbers separated by whitespaces (one space). The words contains only letters. You should check if the string contains three words in succession. For example, the string \"start 5 one two three 7 end\" contains three words in succession.\n",
    "\n",
    "Input: A string with words.\n",
    "\n",
    "Output: The answer as a boolean.\n",
    "\n",
    "Example:\n",
    "checkio(\"Hello World hello\") == True\n",
    "checkio(\"He is 123 man\") == False\n",
    "checkio(\"1 2 3 4\") == False\n",
    "checkio(\"bla bla bla bla\") == True\n",
    "checkio(\"Hi\") == False\n",
    "\n",
    "\n",
    "How it is used: This teaches you how to work with strings and introduces some useful functions.\n",
    "\n",
    "Precondition: The input contains words and/or numbers. There are no mixed words (letters and digits combined).\n",
    "0 < len(words) < 100"
   ]
  },
  {
   "cell_type": "code",
   "execution_count": 101,
   "metadata": {},
   "outputs": [],
   "source": [
    "def checkio(astr):\n",
    "    temp1 = astr.split()\n",
    "    ct = \"\"\n",
    "    for idx in range(0, len(temp1)):\n",
    "        try:\n",
    "            int(temp1[idx])\n",
    "            ct += \"i\"\n",
    "        except:\n",
    "            ct += \"s\"\n",
    "    if ct.count('sss') == True:\n",
    "        return True\n",
    "    else:\n",
    "        return False\n",
    "    "
   ]
  },
  {
   "cell_type": "code",
   "execution_count": 102,
   "metadata": {},
   "outputs": [
    {
     "data": {
      "text/plain": [
       "False"
      ]
     },
     "execution_count": 102,
     "metadata": {},
     "output_type": "execute_result"
    }
   ],
   "source": [
    "checkio(\"1 2 3 4\")"
   ]
  },
  {
   "cell_type": "code",
   "execution_count": 103,
   "metadata": {},
   "outputs": [
    {
     "data": {
      "text/plain": [
       "True"
      ]
     },
     "execution_count": 103,
     "metadata": {},
     "output_type": "execute_result"
    }
   ],
   "source": [
    "checkio(\"Hello World hello\")"
   ]
  },
  {
   "cell_type": "code",
   "execution_count": 104,
   "metadata": {},
   "outputs": [
    {
     "data": {
      "text/plain": [
       "False"
      ]
     },
     "execution_count": 104,
     "metadata": {},
     "output_type": "execute_result"
    }
   ],
   "source": [
    "checkio(\"He is 123 man\")"
   ]
  },
  {
   "cell_type": "code",
   "execution_count": 105,
   "metadata": {},
   "outputs": [
    {
     "data": {
      "text/plain": [
       "True"
      ]
     },
     "execution_count": 105,
     "metadata": {},
     "output_type": "execute_result"
    }
   ],
   "source": [
    "checkio(\"bla bla bla bla\")"
   ]
  },
  {
   "cell_type": "code",
   "execution_count": null,
   "metadata": {},
   "outputs": [],
   "source": []
  }
 ],
 "metadata": {
  "kernelspec": {
   "display_name": "Python 3",
   "language": "python",
   "name": "python3"
  },
  "language_info": {
   "codemirror_mode": {
    "name": "ipython",
    "version": 3
   },
   "file_extension": ".py",
   "mimetype": "text/x-python",
   "name": "python",
   "nbconvert_exporter": "python",
   "pygments_lexer": "ipython3",
   "version": "3.6.8"
  }
 },
 "nbformat": 4,
 "nbformat_minor": 2
}
