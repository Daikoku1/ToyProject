{
 "cells": [
  {
   "cell_type": "markdown",
   "metadata": {},
   "source": [
    "\n",
    "문자열이 3개 이상 연속되면 True값을 반환합니다. 문자열은 화이트스페이스(스페이스바)로 구분됩니다. 단, 숫자열은 단어로 취급하지 않습니다.\n",
    "\n",
    "Example:  \n",
    "checkio(\"Hello World hello\") == True  \n",
    "checkio(\"He is 123 man\") == False  \n",
    "checkio(\"1 2 3 4\") == False  \n",
    "checkio(\"bla bla bla bla\") == True  \n",
    "checkio(\"Hi\") == False  "
   ]
  },
  {
   "cell_type": "code",
   "execution_count": 208,
   "metadata": {},
   "outputs": [],
   "source": [
    "def three_words(string):\n",
    "    \n",
    "    lst=string.split()\n",
    "    num=0\n",
    "    if len(lst)>=3:\n",
    "        for item in lst:\n",
    "            try:\n",
    "                a=int(item)\n",
    "                if num<3 and num>=0:\n",
    "                    return False\n",
    "                    break\n",
    "            except ValueError:\n",
    "                while num <=3:\n",
    "                    num+=1\n",
    "                    break\n",
    "                if num==3:\n",
    "                    return True\n",
    "    else:\n",
    "        return False"
   ]
  },
  {
   "cell_type": "code",
   "execution_count": 209,
   "metadata": {},
   "outputs": [
    {
     "data": {
      "text/plain": [
       "True"
      ]
     },
     "execution_count": 209,
     "metadata": {},
     "output_type": "execute_result"
    }
   ],
   "source": [
    "three_words(\"Hello World hello\")"
   ]
  },
  {
   "cell_type": "code",
   "execution_count": 210,
   "metadata": {},
   "outputs": [
    {
     "data": {
      "text/plain": [
       "False"
      ]
     },
     "execution_count": 210,
     "metadata": {},
     "output_type": "execute_result"
    }
   ],
   "source": [
    "three_words(\"Hello World 123 hello\")"
   ]
  },
  {
   "cell_type": "code",
   "execution_count": 211,
   "metadata": {},
   "outputs": [
    {
     "data": {
      "text/plain": [
       "False"
      ]
     },
     "execution_count": 211,
     "metadata": {},
     "output_type": "execute_result"
    }
   ],
   "source": [
    "three_words(\"123 132 123\")"
   ]
  },
  {
   "cell_type": "code",
   "execution_count": 212,
   "metadata": {},
   "outputs": [
    {
     "data": {
      "text/plain": [
       "True"
      ]
     },
     "execution_count": 212,
     "metadata": {},
     "output_type": "execute_result"
    }
   ],
   "source": [
    "three_words(\"ya ya ya ya\")"
   ]
  },
  {
   "cell_type": "code",
   "execution_count": 214,
   "metadata": {},
   "outputs": [
    {
     "data": {
      "text/plain": [
       "False"
      ]
     },
     "execution_count": 214,
     "metadata": {},
     "output_type": "execute_result"
    }
   ],
   "source": [
    "three_words(\"Hi\")"
   ]
  },
  {
   "cell_type": "code",
   "execution_count": null,
   "metadata": {},
   "outputs": [],
   "source": []
  }
 ],
 "metadata": {
  "kernelspec": {
   "display_name": "Python 3",
   "language": "python",
   "name": "python3"
  },
  "language_info": {
   "codemirror_mode": {
    "name": "ipython",
    "version": 3
   },
   "file_extension": ".py",
   "mimetype": "text/x-python",
   "name": "python",
   "nbconvert_exporter": "python",
   "pygments_lexer": "ipython3",
   "version": "3.7.3"
  }
 },
 "nbformat": 4,
 "nbformat_minor": 2
}
