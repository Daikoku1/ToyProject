{
 "cells": [
  {
   "cell_type": "code",
   "execution_count": 70,
   "metadata": {},
   "outputs": [],
   "source": [
    "def checkio(inputStr):\n",
    "    chkStr = \"\"\n",
    "    for val in inputStr.split():\n",
    "        try:\n",
    "            int(val)\n",
    "            chkStr += \"i\"\n",
    "        except:\n",
    "            chkStr += \"s\"\n",
    "    return False if ((\"i\" in chkStr) or not(\"sss\" in chkStr)) else True"
   ]
  },
  {
   "cell_type": "code",
   "execution_count": 72,
   "metadata": {},
   "outputs": [
    {
     "name": "stdout",
     "output_type": "stream",
     "text": [
      "True\n",
      "False\n",
      "False\n",
      "True\n",
      "False\n"
     ]
    }
   ],
   "source": [
    "print(checkio(\"Hello World hello\"))# == True\\\n",
    "print(checkio(\"He is 123 man\"))# == False\\\n",
    "print(checkio(\"1 2 3 4\")) # == False\\\n",
    "print(checkio(\"bla bla bla bla\")) # == True\\\n",
    "print(checkio(\"Hi\")) # == False\\"
   ]
  }
 ],
 "metadata": {
  "kernelspec": {
   "display_name": "Python 3",
   "language": "python",
   "name": "python3"
  },
  "language_info": {
   "codemirror_mode": {
    "name": "ipython",
    "version": 3
   },
   "file_extension": ".py",
   "mimetype": "text/x-python",
   "name": "python",
   "nbconvert_exporter": "python",
   "pygments_lexer": "ipython3",
   "version": "3.7.3"
  }
 },
 "nbformat": 4,
 "nbformat_minor": 2
}
