{
 "cells": [
  {
   "cell_type": "code",
   "execution_count": 7,
   "metadata": {},
   "outputs": [],
   "source": [
    "def checkio(inputStr):\n",
    "    chkStr = \"\"\n",
    "    for val in inputStr.split():\n",
    "        try:\n",
    "            int(val)\n",
    "            chkStr += \"i\"\n",
    "        except:\n",
    "            chkStr += \"s\"\n",
    "    return False if not(\"sss\" in chkStr) else True"
   ]
  },
  {
   "cell_type": "code",
   "execution_count": 8,
   "metadata": {},
   "outputs": [
    {
     "name": "stdout",
     "output_type": "stream",
     "text": [
      "True\n",
      "False\n",
      "False\n",
      "True\n",
      "False\n",
      "True\n",
      "True\n"
     ]
    }
   ],
   "source": [
    "print(checkio(\"Hello World hello\"))# == True\\\n",
    "print(checkio(\"He is 123 man\"))# == False\\\n",
    "print(checkio(\"1 2 3 4\")) # == False\\\n",
    "print(checkio(\"bla bla bla bla\")) # == True\\\n",
    "print(checkio(\"Hi\")) # == False\\\n",
    "print(checkio(\"Hello World hello 222\")) # == False\\\n",
    "print(checkio(\"222 Hello World hello\")) # == False\\"
   ]
  },
  {
   "cell_type": "code",
   "execution_count": null,
   "metadata": {},
   "outputs": [],
   "source": []
  }
 ],
 "metadata": {
  "kernelspec": {
   "display_name": "Python 3",
   "language": "python",
   "name": "python3"
  },
  "language_info": {
   "codemirror_mode": {
    "name": "ipython",
    "version": 3
   },
   "file_extension": ".py",
   "mimetype": "text/x-python",
   "name": "python",
   "nbconvert_exporter": "python",
   "pygments_lexer": "ipython3",
   "version": "3.7.3"
  }
 },
 "nbformat": 4,
 "nbformat_minor": 2
}
