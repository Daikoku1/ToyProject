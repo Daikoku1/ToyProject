{
 "cells": [
  {
   "cell_type": "markdown",
   "metadata": {},
   "source": [
    "1. 문자열을 받아서\n",
    "2. 블랭크대로 스플릿을 하고\n",
    "3. 스플릿을 해서 생긴 리스트를 반복\n",
    "4. for문을 돌면서 각 리스트의 요소들을 int로 형변환을 하고, 에러 발생시 카운트 증가\n",
    "5. 요소가 int형으로 바뀌면 count 0으로 초기화\n",
    "5. 따라서 카운트가 2이하면 False 리턴, 3이상이면 True 리턴"
   ]
  },
  {
   "cell_type": "code",
   "execution_count": 76,
   "metadata": {},
   "outputs": [],
   "source": [
    "def checkio(words):\n",
    "    \n",
    "    count = 0\n",
    "    \n",
    "    for i in words.split(\" \"):\n",
    "        if count > 2:\n",
    "            break # count가 3이면 for문 탈출         \n",
    "        try:       \n",
    "            int(i) \n",
    "            count = 0 \n",
    "        except:\n",
    "            count += 1 \n",
    "    return True if count > 2 else False \n",
    "\n",
    "\n",
    "\n",
    "  \n",
    "    \n",
    "        \n",
    "    \n"
   ]
  },
  {
   "cell_type": "code",
   "execution_count": 77,
   "metadata": {},
   "outputs": [
    {
     "data": {
      "text/plain": [
       "False"
      ]
     },
     "execution_count": 77,
     "metadata": {},
     "output_type": "execute_result"
    }
   ],
   "source": [
    "checkio('Hi')"
   ]
  },
  {
   "cell_type": "code",
   "execution_count": 78,
   "metadata": {},
   "outputs": [
    {
     "data": {
      "text/plain": [
       "True"
      ]
     },
     "execution_count": 78,
     "metadata": {},
     "output_type": "execute_result"
    }
   ],
   "source": [
    "checkio('I have a pen')"
   ]
  },
  {
   "cell_type": "code",
   "execution_count": 79,
   "metadata": {},
   "outputs": [
    {
     "data": {
      "text/plain": [
       "False"
      ]
     },
     "execution_count": 79,
     "metadata": {},
     "output_type": "execute_result"
    }
   ],
   "source": [
    "checkio('I have 1 apple')"
   ]
  },
  {
   "cell_type": "code",
   "execution_count": 80,
   "metadata": {
    "scrolled": true
   },
   "outputs": [
    {
     "data": {
      "text/plain": [
       "False"
      ]
     },
     "execution_count": 80,
     "metadata": {},
     "output_type": "execute_result"
    }
   ],
   "source": [
    "checkio('0 4 1 3')"
   ]
  }
 ],
 "metadata": {
  "kernelspec": {
   "display_name": "Python 3",
   "language": "python",
   "name": "python3"
  },
  "language_info": {
   "codemirror_mode": {
    "name": "ipython",
    "version": 3
   },
   "file_extension": ".py",
   "mimetype": "text/x-python",
   "name": "python",
   "nbconvert_exporter": "python",
   "pygments_lexer": "ipython3",
   "version": "3.7.3"
  }
 },
 "nbformat": 4,
 "nbformat_minor": 2
}
