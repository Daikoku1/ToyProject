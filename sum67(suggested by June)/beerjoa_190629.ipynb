{
 "cells": [
  {
   "cell_type": "code",
   "execution_count": 1,
   "metadata": {},
   "outputs": [],
   "source": [
    "def sum67(inputList):\n",
    "    exceptList = []\n",
    "    flag = False\n",
    "    for i in inputList:\n",
    "        if i==6:\n",
    "            flag = True\n",
    "        if flag:\n",
    "            exceptList.append(i)\n",
    "        if i==7:\n",
    "            flag = False\n",
    "    try:\n",
    "        return sum(inputList)-sum(exceptList)\n",
    "    except TypeError:\n",
    "        return 0    "
   ]
  },
  {
   "cell_type": "code",
   "execution_count": 2,
   "metadata": {},
   "outputs": [
    {
     "name": "stdout",
     "output_type": "stream",
     "text": [
      "18\n",
      "9\n",
      "8\n",
      "8\n",
      "5\n",
      "5\n",
      "4\n",
      "0\n",
      "4\n",
      "2\n",
      "2\n"
     ]
    }
   ],
   "source": [
    "print(sum67([2, 7, 6, 2, 6, 7, 2, 7]))# → 18\n",
    "print(sum67([2, 7, 6, 2, 6, 2, 7]))# → 9\n",
    "print(sum67([1, 6, 7, 7]))# → 8\n",
    "print(sum67([6, 7, 1, 6, 7, 7]))# → 8\n",
    "print(sum67([1, 2, 2]))# → 5\n",
    "print(sum67([1, 2, 2, 6, 99, 99, 7]))# → 5\n",
    "print(sum67([1, 1, 6, 7, 2]))# → 4\n",
    "print(sum67('ab'))# -> 0\n",
    "print(sum67([1, 1, 6, 7, 2]))# → 4\n",
    "print(sum67([1, 6, 2, 2, 7, 1, 6, 99, 99, 7]))# → 2\n",
    "print(sum67([1, 6, 2, 6, 2, 7, 1, 6, 99, 99, 7]))# → 2"
   ]
  }
 ],
 "metadata": {
  "kernelspec": {
   "display_name": "Python 3",
   "language": "python",
   "name": "python3"
  },
  "language_info": {
   "codemirror_mode": {
    "name": "ipython",
    "version": 3
   },
   "file_extension": ".py",
   "mimetype": "text/x-python",
   "name": "python",
   "nbconvert_exporter": "python",
   "pygments_lexer": "ipython3",
   "version": "3.7.3"
  }
 },
 "nbformat": 4,
 "nbformat_minor": 2
}
