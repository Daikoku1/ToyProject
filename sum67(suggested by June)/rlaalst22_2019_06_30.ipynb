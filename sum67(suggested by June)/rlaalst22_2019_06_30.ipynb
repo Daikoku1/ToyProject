{
 "cells": [
  {
   "cell_type": "code",
   "execution_count": null,
   "metadata": {},
   "outputs": [],
   "source": [
    "def sum67(args):\n",
    "    a = 0\n",
    "    b = 0\n",
    "    new_list = args.copy()\n",
    "    for idx,val in enumerate(args):\n",
    "#         print(val)\n",
    "        if val == 6:\n",
    "            a =idx\n",
    "        if val == 7:\n",
    "            b = idx\n",
    "    return sum(new_list[:a] + new_list[b+1:])\n",
    "            "
   ]
  },
  {
   "cell_type": "code",
   "execution_count": null,
   "metadata": {},
   "outputs": [],
   "source": [
    "sum67([1,2,3,4,5,1,2,3,6,3,7,6,5,4,35,7])"
   ]
  },
  {
   "cell_type": "code",
   "execution_count": 3,
   "metadata": {},
   "outputs": [],
   "source": [
    "def sum67(args):\n",
    "    trig = 0\n",
    "    later_sum = 0\n",
    "    for idx,val in enumerate(args):\n",
    "        if val == 6:\n",
    "            trig = 1\n",
    "            \n",
    "        if trig ==1:\n",
    "            later_sum += val\n",
    "        if val ==7:\n",
    "            trig = 0\n",
    "    return sum(args)-later_sum"
   ]
  },
  {
   "cell_type": "code",
   "execution_count": null,
   "metadata": {},
   "outputs": [],
   "source": []
  },
  {
   "cell_type": "code",
   "execution_count": null,
   "metadata": {},
   "outputs": [],
   "source": []
  }
 ],
 "metadata": {
  "kernelspec": {
   "display_name": "Python 3",
   "language": "python",
   "name": "python3"
  },
  "language_info": {
   "codemirror_mode": {
    "name": "ipython",
    "version": 3
   },
   "file_extension": ".py",
   "mimetype": "text/x-python",
   "name": "python",
   "nbconvert_exporter": "python",
   "pygments_lexer": "ipython3",
   "version": "3.6.8"
  }
 },
 "nbformat": 4,
 "nbformat_minor": 2
}
