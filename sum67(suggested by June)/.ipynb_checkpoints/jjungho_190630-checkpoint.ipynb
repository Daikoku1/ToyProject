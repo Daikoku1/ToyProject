{
 "cells": [
  {
   "cell_type": "markdown",
   "metadata": {},
   "source": [
    "# Sum67 계산기"
   ]
  },
  {
   "cell_type": "markdown",
   "metadata": {},
   "source": [
    "Return the sum of the numbers in the list, except ignore sections of numbers starting with a 6 and  extending to the next 7   \n",
    "(every 6 will be followed by at least one 7). Return 0 for no numbers.  \n",
    "  \n",
    "##함수  \n",
    "sum67([1, 2, 2]) → 5  \n",
    "sum67([1, 2, 2, 6, 99, 99, 7]) → 5  \n",
    "sum67([1, 1, 6, 7, 2]) → 4  \n",
    "sum67('ab') -> 0  \n",
    "##출처(문제가 조금 수정됨)  \n",
    "https://codingbat.com/prob/p108886  \n",
    "\n",
    "목록에서 숫자의 합을 반환합니다. 단, 6으로 시작하고 다음 7까지 이어지는 숫자의 섹션을 무시하십시오.  \n",
    "(매 6 명마다 적어도 한 명씩 7 명이 뒤따를 것입니다). 숫자가없는 경우 0을 반환합니다."
   ]
  },
  {
   "cell_type": "markdown",
   "metadata": {},
   "source": [
    "## 코드 작성"
   ]
  },
  {
   "cell_type": "code",
   "execution_count": 1,
   "metadata": {},
   "outputs": [],
   "source": [
    "# Concept \n",
    "# 주어지는 리스트 안에 있는 숫자를 전부 다 더한 다음, \n",
    "# 6과 7, 그리고 그 사이에 있는 숫자들을 빼주면 되지 않을까?\n",
    "\n",
    "def sum67(nums): # 함수 선언\n",
    "    total = 0 # total 변수 선언\n",
    "    \n",
    "    for idx, val in enumerate(nums):  # index와 value값으로 분리\n",
    "        total += val # list 안에 있는 모든 수를 더해줌\n",
    "\n",
    "        # val를 쓰지 않는 이유는, val을 사용하면 리스트 범위를 벗어나 버리기 때문이다.\n",
    "        if nums[idx] == 6: # 만약 6이 나타나면, \n",
    "\n",
    "            while nums[idx] != 7: # while 문으로 들어간다. 7이 나타날 때 까지\n",
    "                idx += 1 # idx를 1씩 올리면서\n",
    "                total -= nums[idx] # 그 값을 빼준다. (여기서 맨 처음 6은 아직 빠져 있지 않다.)\n",
    "                \n",
    "                if nums[idx] == 6: # 만약에 6과 7사이에 6이 한번 더 나타나면,\n",
    "                    break # while문을 탈출한다.\n",
    "                \n",
    "                elif nums[idx] == 7: # 7이 나타나면,\n",
    "                    total -= 6 # 처음에 빼지 않은 6을 마저 빼준다.\n",
    "                           \n",
    "    \n",
    "    return total # total 값 반환"
   ]
  },
  {
   "cell_type": "code",
   "execution_count": 2,
   "metadata": {},
   "outputs": [
    {
     "data": {
      "text/plain": [
       "5"
      ]
     },
     "execution_count": 2,
     "metadata": {},
     "output_type": "execute_result"
    }
   ],
   "source": [
    "sum67([1, 2, 2])"
   ]
  },
  {
   "cell_type": "code",
   "execution_count": 3,
   "metadata": {},
   "outputs": [
    {
     "data": {
      "text/plain": [
       "5"
      ]
     },
     "execution_count": 3,
     "metadata": {},
     "output_type": "execute_result"
    }
   ],
   "source": [
    "sum67([1, 2, 2, 6, 99, 99, 7]) "
   ]
  },
  {
   "cell_type": "code",
   "execution_count": 4,
   "metadata": {},
   "outputs": [
    {
     "data": {
      "text/plain": [
       "2"
      ]
     },
     "execution_count": 4,
     "metadata": {},
     "output_type": "execute_result"
    }
   ],
   "source": [
    "sum67([1, 6, 2, 6, 2, 7, 1, 6, 99, 99, 7])"
   ]
  },
  {
   "cell_type": "code",
   "execution_count": 5,
   "metadata": {},
   "outputs": [
    {
     "data": {
      "text/plain": [
       "0"
      ]
     },
     "execution_count": 5,
     "metadata": {},
     "output_type": "execute_result"
    }
   ],
   "source": [
    "sum67([])"
   ]
  },
  {
   "cell_type": "markdown",
   "metadata": {},
   "source": [
    "## 주석 제거 깔끔한 코드"
   ]
  },
  {
   "cell_type": "code",
   "execution_count": 6,
   "metadata": {},
   "outputs": [],
   "source": [
    "def sum67(nums):\n",
    "    total = 0\n",
    "    \n",
    "    for idx, val in enumerate(nums):\n",
    "        total += val\n",
    "        \n",
    "        if nums[idx] == 6:\n",
    "            while nums[idx] != 7:\n",
    "                idx += 1\n",
    "                total -= nums[idx]\n",
    "                \n",
    "                if nums[idx] == 6:\n",
    "                    break\n",
    "                elif nums[idx] == 7:\n",
    "                    total -= 6\n",
    "    return total"
   ]
  }
 ],
 "metadata": {
  "kernelspec": {
   "display_name": "Python 3",
   "language": "python",
   "name": "python3"
  },
  "language_info": {
   "codemirror_mode": {
    "name": "ipython",
    "version": 3
   },
   "file_extension": ".py",
   "mimetype": "text/x-python",
   "name": "python",
   "nbconvert_exporter": "python",
   "pygments_lexer": "ipython3",
   "version": "3.7.3"
  }
 },
 "nbformat": 4,
 "nbformat_minor": 2
}
