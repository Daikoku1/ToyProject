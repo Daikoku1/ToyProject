{
 "cells": [
  {
   "cell_type": "code",
   "execution_count": 6,
   "metadata": {},
   "outputs": [],
   "source": [
    "def sum67(lst):\n",
    "    sum67=0\n",
    "    while 6 in lst:\n",
    "        start_num=lst.index(6)\n",
    "        end_num=lst.index(7)   \n",
    "        # 7이 6이 있던 자리에 올 때까지 그 사이에 있는 요소들을 다 삭제합니다.\n",
    "        while lst[start_num]!=7:\n",
    "            lst.remove(lst[start_num])\n",
    "        # 마지막으로 7을 삭제합니다.\n",
    "        lst.remove(7)\n",
    "        # 이 과정을, 6이 리스트 안에 없을 때까지 반복합니다.\n",
    "    # 결과로 나온 리스트 안에서의 총 합을 더해줍니다.\n",
    "    for i in lst:\n",
    "        sum67+=i\n",
    "    # 함수값을 반환합니다.\n",
    "    return(sum67)"
   ]
  },
  {
   "cell_type": "code",
   "execution_count": 7,
   "metadata": {},
   "outputs": [
    {
     "data": {
      "text/plain": [
       "2"
      ]
     },
     "execution_count": 7,
     "metadata": {},
     "output_type": "execute_result"
    }
   ],
   "source": [
    "sum67([1, 6, 2, 6, 2, 7, 1, 6, 99, 99, 7])"
   ]
  }
 ],
 "metadata": {
  "kernelspec": {
   "display_name": "Python 3",
   "language": "python",
   "name": "python3"
  },
  "language_info": {
   "codemirror_mode": {
    "name": "ipython",
    "version": 3
   },
   "file_extension": ".py",
   "mimetype": "text/x-python",
   "name": "python",
   "nbconvert_exporter": "python",
   "pygments_lexer": "ipython3",
   "version": "3.7.3"
  }
 },
 "nbformat": 4,
 "nbformat_minor": 2
}
