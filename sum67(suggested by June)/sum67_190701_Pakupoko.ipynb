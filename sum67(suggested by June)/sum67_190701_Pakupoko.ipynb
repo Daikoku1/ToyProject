{
 "cells": [
  {
   "cell_type": "code",
   "execution_count": 11,
   "metadata": {},
   "outputs": [],
   "source": [
    "def sum67(num):\n",
    "    flag = 0 # 6이 시작될 때 판별\n",
    "    cnt = 0 # 숫자들의 합\n",
    "    \n",
    "    for i in num:\n",
    "        if type(i) == type(str()) : #문자열 판별\n",
    "            return 0\n",
    "        \n",
    "        if i == 6: # 숫자가 6 일 경우 스위치 on\n",
    "            flag = 1\n",
    "            continue\n",
    "        \n",
    "        elif i == 7 and flag == 1: #스위치 on 이고 숫자가 7일경우 숫자 끔\n",
    "            flag = 0\n",
    "            continue\n",
    "            \n",
    "        elif flag == 1: #스위치 on 일 경우 계속 숫자 넘김\n",
    "            continue\n",
    "        \n",
    "        \n",
    "            \n",
    "        cnt += i # 숫자 누적\n",
    "    \n",
    "    return cnt\n"
   ]
  },
  {
   "cell_type": "code",
   "execution_count": 12,
   "metadata": {},
   "outputs": [
    {
     "data": {
      "text/plain": [
       "5"
      ]
     },
     "execution_count": 12,
     "metadata": {},
     "output_type": "execute_result"
    }
   ],
   "source": [
    "sum67([1,2,2])"
   ]
  },
  {
   "cell_type": "code",
   "execution_count": 13,
   "metadata": {},
   "outputs": [
    {
     "data": {
      "text/plain": [
       "5"
      ]
     },
     "execution_count": 13,
     "metadata": {},
     "output_type": "execute_result"
    }
   ],
   "source": [
    "sum67([1,2,2,6,99,99,7])"
   ]
  },
  {
   "cell_type": "code",
   "execution_count": 14,
   "metadata": {},
   "outputs": [
    {
     "data": {
      "text/plain": [
       "4"
      ]
     },
     "execution_count": 14,
     "metadata": {},
     "output_type": "execute_result"
    }
   ],
   "source": [
    "sum67([1,1,6,7,2])"
   ]
  },
  {
   "cell_type": "code",
   "execution_count": 8,
   "metadata": {},
   "outputs": [
    {
     "data": {
      "text/plain": [
       "0"
      ]
     },
     "execution_count": 8,
     "metadata": {},
     "output_type": "execute_result"
    }
   ],
   "source": [
    "sum67('ab')"
   ]
  },
  {
   "cell_type": "code",
   "execution_count": 10,
   "metadata": {},
   "outputs": [
    {
     "data": {
      "text/plain": [
       "2"
      ]
     },
     "execution_count": 10,
     "metadata": {},
     "output_type": "execute_result"
    }
   ],
   "source": [
    "sum67([1,1,6,7,2])"
   ]
  },
  {
   "cell_type": "code",
   "execution_count": null,
   "metadata": {},
   "outputs": [],
   "source": []
  }
 ],
 "metadata": {
  "kernelspec": {
   "display_name": "Python 3",
   "language": "python",
   "name": "python3"
  },
  "language_info": {
   "codemirror_mode": {
    "name": "ipython",
    "version": 3
   },
   "file_extension": ".py",
   "mimetype": "text/x-python",
   "name": "python",
   "nbconvert_exporter": "python",
   "pygments_lexer": "ipython3",
   "version": "3.6.6"
  }
 },
 "nbformat": 4,
 "nbformat_minor": 2
}
