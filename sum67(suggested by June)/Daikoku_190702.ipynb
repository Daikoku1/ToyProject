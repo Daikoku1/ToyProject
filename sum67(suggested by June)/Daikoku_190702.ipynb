{
 "cells": [
  {
   "cell_type": "markdown",
   "metadata": {},
   "source": [
    "Return the sum of the numbers in the list, except ignore sections of numbers starting with a 6 and extending to the next 7 \n",
    "(every 6 will be followed by at least one 7). Return 0 for no numbers.\n",
    "\n",
    "##함수  \n",
    "sum67([1, 2, 2]) → 5  \n",
    "sum67([1, 2, 2, 6, 99, 99, 7]) → 5  \n",
    "sum67([1, 1, 6, 7, 2]) → 4  \n",
    "sum67('ab') -> 0  \n",
    "##출처(문제가 조금 수정됨)  \n",
    "https://codingbat.com/prob/p108886  "
   ]
  },
  {
   "cell_type": "markdown",
   "metadata": {},
   "source": [
    "# Daikoku's Answer"
   ]
  },
  {
   "cell_type": "code",
   "execution_count": 14,
   "metadata": {},
   "outputs": [],
   "source": [
    "def sum67(f_list):\n",
    "    result = []\n",
    "    for idx, val in enumerate(f_list):\n",
    "        if val == 6:\n",
    "            c_idx = idx\n",
    "            result.append(c_idx)\n",
    "\n",
    "            while f_list[c_idx] !=7:\n",
    "                c_idx += 1\n",
    "                if c_idx > len(f_list) -1:\n",
    "                    break\n",
    "                result.append(c_idx)\n",
    "                \n",
    "    result.sort(reverse = True)    \n",
    "    for x in result:\n",
    "        f_list.pop(x)\n",
    "        \n",
    "    return sum(f_list)"
   ]
  },
  {
   "cell_type": "code",
   "execution_count": 15,
   "metadata": {},
   "outputs": [
    {
     "data": {
      "text/plain": [
       "5"
      ]
     },
     "execution_count": 15,
     "metadata": {},
     "output_type": "execute_result"
    }
   ],
   "source": [
    "sum67([1, 2, 2])"
   ]
  },
  {
   "cell_type": "code",
   "execution_count": 16,
   "metadata": {},
   "outputs": [
    {
     "data": {
      "text/plain": [
       "5"
      ]
     },
     "execution_count": 16,
     "metadata": {},
     "output_type": "execute_result"
    }
   ],
   "source": [
    "sum67([1, 2, 2, 6, 99, 99, 7])"
   ]
  },
  {
   "cell_type": "code",
   "execution_count": 18,
   "metadata": {},
   "outputs": [
    {
     "data": {
      "text/plain": [
       "4"
      ]
     },
     "execution_count": 18,
     "metadata": {},
     "output_type": "execute_result"
    }
   ],
   "source": [
    "sum67([1, 1, 6, 7, 2])"
   ]
  }
 ],
 "metadata": {
  "kernelspec": {
   "display_name": "Python 3",
   "language": "python",
   "name": "python3"
  },
  "language_info": {
   "codemirror_mode": {
    "name": "ipython",
    "version": 3
   },
   "file_extension": ".py",
   "mimetype": "text/x-python",
   "name": "python",
   "nbconvert_exporter": "python",
   "pygments_lexer": "ipython3",
   "version": "3.7.3"
  }
 },
 "nbformat": 4,
 "nbformat_minor": 2
}
