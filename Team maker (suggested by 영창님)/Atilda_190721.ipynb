{
 "cells": [
  {
   "cell_type": "markdown",
   "metadata": {},
   "source": [
    "학생 S명이 있다. 각 학생에게 번호를 부여한다.  \n",
    "학생들의 전공은 다양해서 총 n개의 전공이 존재한다.(단 복수 및 부전공자는 없다고 가정한다. n<=S)\n",
    "각 전공에 속하는 학생 비중은 랜덤으로 생성한다.(각 전공의 학생 비중을 모두 합하면 1이 된다.)(전공들 간의 비중 차이가 너무 크지 않도록 각 전공의 비중은 평균=1/n, 표준편차=1/(5*n)으로 설정하여 정규분포상 난수를 생성하는 것을 권장한다.)  \n",
    "\n",
    "학생들이 프로젝트를 수행하도록 랜덤으로 팀을 짜려고 한다.  \n",
    "한 팀당 x명씩 팀을 만들되, 모두 다른 전공으로 구성된 팀을 만들어야 한다. 랜덤으로 팀을 생성할 때, 전공이 모두 달라야 하는 조건을 만족한 팀은 그대로 두고, 전공이 겹치는 경우가 발생한 팀은 해체해서 재결성한다.  \n",
    "x로 S를 나눌 때 나머지가 발생하는 경우, 마지막 팀은 나머지 인원 수로 한 팀을 결성한다.  \n",
    "\n",
    "총 전공 수가 부족해서 팀을 만들지 못하는 경우, 'impossible'을 출력하고,  \n",
    "총 전공 수가 충분하지만 팀 결성을 실패한 경우,  \n",
    "'fail'을 출력하고,  \n",
    "팀 결성에 성공한 경우,  \n",
    "'success'를 출력하고 각 팀에 속하는 학생들의 번호를 리스트로 묶어 출력한다.  "
   ]
  },
  {
   "cell_type": "code",
   "execution_count": 1,
   "metadata": {},
   "outputs": [],
   "source": [
    "import numpy as np\n",
    "import pandas as pd\n",
    "import numpy as np\n",
    "import random"
   ]
  },
  {
   "cell_type": "code",
   "execution_count": 739,
   "metadata": {},
   "outputs": [],
   "source": [
    "def teamMaker(S,n,x):\n",
    "    # S = 총 학생 수\n",
    "    # n = 전공 수\n",
    "    # x = 팀원 수\n",
    "    np.random.seed(252)\n",
    "    mean = 1/n\n",
    "    std = 1/(5*n)\n",
    "\n",
    "    #  전공에 따른 학생 수\n",
    "    weight = (np.random.normal(mean, std, n).round(2)*S).astype('int')\n",
    "    # 예시: S=100 / n=10 일때\n",
    "    # :array([13., 12., 12.,  8., 13., 11.,  9.,  8., 10.,  6.])\n",
    "\n",
    "    # 랜덤으로 뽑혔을 때 나온 결손 보충\n",
    "    loss = S - weight.sum()\n",
    "\n",
    "    if loss :\n",
    "         for i in weight:\n",
    "            index = np.where(weight==i)[0][0]\n",
    "            weight[index]=i+loss\n",
    "            break\n",
    "\n",
    "    # major에 따른 학생 코드 부여\n",
    "    castBoard=[]\n",
    "    for major in range(n):\n",
    "        studentCode=np.arange(weight[major])+100*(major+1)\n",
    "        castBoard.append(studentCode.tolist())\n",
    "    # =====================임의의 학생 set 완성=====================\n",
    "\n",
    "    if S<n:\n",
    "        print('impossible')\n",
    "    if S==n and x!=1:\n",
    "        print('impossible')\n",
    "    if S==n and x==1:\n",
    "        print('success')\n",
    "        teamList=[[major[i]] for i in major for major in castBoard]\n",
    "        return teamList\n",
    "    else: # S>n\n",
    "        if n<x: \n",
    "            print('impossible')\n",
    "        else: # n>=x \n",
    "            teamList=[]\n",
    "            while len(castBoard)>=x:\n",
    "                # n개의 학과 중 x개의 학과를 랜덤하게 추출\n",
    "                pickMajor= random.sample(range(len(castBoard)), x)\n",
    "                team = [castBoard[major].pop() for major in pickMajor]\n",
    "                teamList.append(team)\n",
    "                # castBoard에 빈 리스트를 제거하여 team 생성 시 빈 리스트에서 None을 뽑아오지 않도록\n",
    "                while [] in castBoard:\n",
    "                    castBoard.remove([])\n",
    "            # 팀 결성 성공의 조건을 팀의 수가 S//x 와 같을 때라고 상정\n",
    "            if len(teamList)==S//x:\n",
    "                # x로 S를 나눌 때 나머지가 발생하는 경우, 마지막 팀은 나머지 인원 수로 한 팀을 결성한다.\n",
    "                if castBoard:\n",
    "                    teamList.append(castBoard[0])\n",
    "                print('success')\n",
    "                print(teamList)\n",
    "                return teamList\n",
    "            else:\n",
    "                print('fail')\n",
    "                return None\n"
   ]
  },
  {
   "cell_type": "code",
   "execution_count": 740,
   "metadata": {},
   "outputs": [
    {
     "name": "stdout",
     "output_type": "stream",
     "text": [
      "success\n",
      "[[201, 103, 301], [200, 500, 102], [300, 101, 400], [100]]\n"
     ]
    },
    {
     "data": {
      "text/plain": [
       "[[201, 103, 301], [200, 500, 102], [300, 101, 400], [100]]"
      ]
     },
     "execution_count": 740,
     "metadata": {},
     "output_type": "execute_result"
    }
   ],
   "source": [
    "teamMaker(10,5,3)"
   ]
  },
  {
   "cell_type": "code",
   "execution_count": 741,
   "metadata": {},
   "outputs": [
    {
     "name": "stdout",
     "output_type": "stream",
     "text": [
      "fail\n"
     ]
    }
   ],
   "source": [
    "teamMaker(100,10,5)"
   ]
  },
  {
   "cell_type": "code",
   "execution_count": 742,
   "metadata": {},
   "outputs": [
    {
     "name": "stdout",
     "output_type": "stream",
     "text": [
      "1번째 시도\n",
      "fail\n",
      "2번째 시도\n",
      "fail\n",
      "3번째 시도\n",
      "fail\n",
      "4번째 시도\n",
      "fail\n",
      "5번째 시도\n",
      "fail\n",
      "6번째 시도\n",
      "fail\n",
      "7번째 시도\n",
      "fail\n",
      "8번째 시도\n",
      "fail\n",
      "9번째 시도\n",
      "fail\n",
      "10번째 시도\n",
      "fail\n",
      "11번째 시도\n",
      "fail\n",
      "12번째 시도\n",
      "fail\n",
      "13번째 시도\n",
      "fail\n",
      "14번째 시도\n",
      "fail\n",
      "15번째 시도\n",
      "fail\n",
      "16번째 시도\n",
      "fail\n",
      "17번째 시도\n",
      "fail\n",
      "18번째 시도\n",
      "fail\n",
      "19번째 시도\n",
      "fail\n",
      "20번째 시도\n",
      "fail\n",
      "21번째 시도\n",
      "fail\n",
      "22번째 시도\n",
      "fail\n",
      "23번째 시도\n",
      "fail\n",
      "24번째 시도\n",
      "fail\n",
      "25번째 시도\n",
      "fail\n",
      "26번째 시도\n",
      "fail\n",
      "27번째 시도\n",
      "fail\n",
      "28번째 시도\n",
      "fail\n",
      "29번째 시도\n",
      "fail\n",
      "30번째 시도\n",
      "fail\n",
      "31번째 시도\n",
      "fail\n",
      "32번째 시도\n",
      "fail\n",
      "33번째 시도\n",
      "fail\n",
      "34번째 시도\n",
      "fail\n",
      "35번째 시도\n",
      "fail\n",
      "36번째 시도\n",
      "fail\n",
      "37번째 시도\n",
      "fail\n",
      "38번째 시도\n",
      "fail\n",
      "39번째 시도\n",
      "fail\n",
      "40번째 시도\n",
      "fail\n",
      "41번째 시도\n",
      "fail\n",
      "42번째 시도\n",
      "fail\n",
      "43번째 시도\n",
      "success\n",
      "[[309, 808, 406, 710, 209], [308, 405, 1010, 208, 807], [404, 507, 806, 110, 611], [506, 403, 709, 910, 307], [402, 909, 207, 708, 505], [109, 206, 306, 1009, 707], [305, 805, 504, 205, 401], [610, 706, 804, 908, 108], [609, 803, 400, 304, 503], [502, 204, 608, 1008, 802], [107, 607, 705, 501, 203], [202, 907, 606, 303, 106], [704, 605, 1007, 500, 302], [1006, 703, 105, 801, 906], [104, 201, 800, 1005, 905], [604, 103, 904, 301, 1004], [603, 1003, 903, 300, 200], [102, 1002, 602, 902, 702], [601, 101, 1001, 701, 901], [1000, 900, 600, 100, 700]]\n"
     ]
    }
   ],
   "source": [
    "cnt=0\n",
    "while cnt<1000: \n",
    "    cnt+=1\n",
    "    print('{}번째 시도'.format(cnt))\n",
    "    if teamMaker(100,10,5):\n",
    "        break\n",
    "        \n",
    "        \n",
    "    \n"
   ]
  },
  {
   "cell_type": "code",
   "execution_count": null,
   "metadata": {},
   "outputs": [],
   "source": []
  },
  {
   "cell_type": "code",
   "execution_count": null,
   "metadata": {},
   "outputs": [],
   "source": []
  }
 ],
 "metadata": {
  "kernelspec": {
   "display_name": "Python 3",
   "language": "python",
   "name": "python3"
  },
  "language_info": {
   "codemirror_mode": {
    "name": "ipython",
    "version": 3
   },
   "file_extension": ".py",
   "mimetype": "text/x-python",
   "name": "python",
   "nbconvert_exporter": "python",
   "pygments_lexer": "ipython3",
   "version": "3.7.3"
  }
 },
 "nbformat": 4,
 "nbformat_minor": 2
}
