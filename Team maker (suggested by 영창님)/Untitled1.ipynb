{
 "cells": [
  {
   "cell_type": "code",
   "execution_count": null,
   "metadata": {},
   "outputs": [],
   "source": [
    "import random\n",
    "from pprint import pprint\n",
    "\n",
    "def getTeam():\n",
    "    resultList = []\n",
    "    # dic = {'name':'a', 'major':'b', 'majorCategory':'c'}\n",
    "#     teamDic = {}#{'name':'a', 'major':'b', 'majorCategory':'c'}\n",
    "    teamList = []\n",
    "    for i in range(0, 20):\n",
    "        teamDic = {}\n",
    "        teamDic['name'] = chr(i+65)\n",
    "        teamDic['major'] = chr(i+97)\n",
    "        teamDic['majorCategory'] = 4*0.125 if((i+1)%4==0) else ((i+1)%4)*0.125\n",
    "        \n",
    "        teamList.append(teamDic)\n",
    "    \n",
    "#     print(teamList)\n",
    "    print(\"시작\")\n",
    "    while(len(teamList)!=0):\n",
    "        while(len(teamList)!=0):\n",
    "            setList = set([])\n",
    "            for i in range(4):\n",
    "                try:\n",
    "                    ran = teamList[random.randint(0,len(teamList)-1)]#['majorCategory']\n",
    "                except:\n",
    "                    pass\n",
    "                while(len(setList)!=4):\n",
    "                    try:\n",
    "                        ran = teamList[random.randint(0,len(teamList)-1)]\n",
    "                    except:\n",
    "                        pass\n",
    "                    player = ran['name']#['majorCategory']\n",
    "                    if(player in setList):\n",
    "                        continue\n",
    "                    setList.add((player, ran['majorCategory']))\n",
    "#                     setList.add(ran)\n",
    "                if(sum(i[1] for i in setList)==1.0):\n",
    "                    break\n",
    "                \n",
    "            setList = [i[0] for i in setList]\n",
    "#             print(len(teamList))\n",
    "            print(setList)\n",
    "            print(len(teamList))\n",
    "            resultList.append(setList)\n",
    "#             print(resultList)\n",
    "    #         teamList = [teamList[i] for teamList[i] in teamList if not(teamList[i]['name'] in setList)] \n",
    "            teamList = [val for idx,val in enumerate(teamList) if not(teamList[idx]['name'] in setList)] \n",
    "        \n",
    "        \n",
    "        \n",
    "    print(\"끝\")\n",
    "    return resultList"
   ]
  },
  {
   "cell_type": "code",
   "execution_count": 21,
   "metadata": {},
   "outputs": [
    {
     "name": "stdout",
     "output_type": "stream",
     "text": [
      "시작\n",
      "['G', 'T', 'M', 'I']\n",
      "20\n",
      "['P', 'A', 'O', 'J']\n",
      "16\n",
      "['L', 'H', 'D', 'K']\n",
      "12\n",
      "['F', 'B', 'Q', 'C']\n",
      "8\n",
      "['S', 'R', 'N', 'E']\n",
      "4\n",
      "끝\n",
      "[['G', 'T', 'M', 'I'],\n",
      " ['P', 'A', 'O', 'J'],\n",
      " ['L', 'H', 'D', 'K'],\n",
      " ['F', 'B', 'Q', 'C'],\n",
      " ['S', 'R', 'N', 'E']]\n"
     ]
    }
   ],
   "source": [
    "pprint(getTeam())"
   ]
  },
  {
   "cell_type": "code",
   "execution_count": 5,
   "metadata": {},
   "outputs": [
    {
     "data": {
      "text/plain": [
       "1.0"
      ]
     },
     "execution_count": 5,
     "metadata": {},
     "output_type": "execute_result"
    }
   ],
   "source": [
    "0.75+0.25"
   ]
  },
  {
   "cell_type": "code",
   "execution_count": null,
   "metadata": {},
   "outputs": [],
   "source": []
  },
  {
   "cell_type": "code",
   "execution_count": null,
   "metadata": {},
   "outputs": [],
   "source": []
  }
 ],
 "metadata": {
  "kernelspec": {
   "display_name": "Python 3",
   "language": "python",
   "name": "python3"
  },
  "language_info": {
   "codemirror_mode": {
    "name": "ipython",
    "version": 3
   },
   "file_extension": ".py",
   "mimetype": "text/x-python",
   "name": "python",
   "nbconvert_exporter": "python",
   "pygments_lexer": "ipython3",
   "version": "3.7.3"
  }
 },
 "nbformat": 4,
 "nbformat_minor": 2
}
