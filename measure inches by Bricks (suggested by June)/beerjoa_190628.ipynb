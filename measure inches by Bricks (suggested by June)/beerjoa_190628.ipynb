{
 "cells": [
  {
   "cell_type": "code",
   "execution_count": 1,
   "metadata": {},
   "outputs": [],
   "source": [
    "def make_bricks(n1, n2, val):\n",
    "    for1, for5 = val%5, val//5\n",
    "    if(n2>for5):\n",
    "        return True if(n1>=for1) else False\n",
    "    else:\n",
    "        return False if (val>n1+(n2*5)) else True"
   ]
  },
  {
   "cell_type": "code",
   "execution_count": 2,
   "metadata": {},
   "outputs": [
    {
     "name": "stdout",
     "output_type": "stream",
     "text": [
      "True\n",
      "True\n",
      "False\n",
      "True\n",
      "True\n",
      "False\n",
      "False\n"
     ]
    }
   ],
   "source": [
    "print(make_bricks(3, 1, 8))# → True\n",
    "print(make_bricks(6, 1, 11))# → True\n",
    "print(make_bricks(3, 1, 9))# → False\n",
    "print(make_bricks(3, 2, 10))# → True\n",
    "print(make_bricks(3, 2, 8))# → True\n",
    "print(make_bricks(3, 2, 9))# → False\n",
    "print(make_bricks(6, 0, 11))# → False"
   ]
  }
 ],
 "metadata": {
  "kernelspec": {
   "display_name": "Python 3",
   "language": "python",
   "name": "python3"
  },
  "language_info": {
   "codemirror_mode": {
    "name": "ipython",
    "version": 3
   },
   "file_extension": ".py",
   "mimetype": "text/x-python",
   "name": "python",
   "nbconvert_exporter": "python",
   "pygments_lexer": "ipython3",
   "version": "3.7.3"
  }
 },
 "nbformat": 4,
 "nbformat_minor": 2
}
