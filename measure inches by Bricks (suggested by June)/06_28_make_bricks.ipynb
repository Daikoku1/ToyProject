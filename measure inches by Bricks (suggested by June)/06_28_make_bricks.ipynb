{
 "cells": [
  {
   "cell_type": "code",
   "execution_count": null,
   "metadata": {},
   "outputs": [],
   "source": [
    "Here's the original problem statement: We want to make a row of bricks that is goal inches long.\n",
    "We have a number of small bricks (1 inch each) and big bricks (5 inches each).\n",
    "Return true if it is possible to make the goal by choosing from the given bricks. \n",
    "This is a little harder than it looks and can be done without any loops."
   ]
  },
  {
   "cell_type": "code",
   "execution_count": 1,
   "metadata": {},
   "outputs": [
    {
     "ename": "SyntaxError",
     "evalue": "invalid syntax (<ipython-input-1-e8ca99e7a06c>, line 5)",
     "output_type": "error",
     "traceback": [
      "\u001b[1;36m  File \u001b[1;32m\"<ipython-input-1-e8ca99e7a06c>\"\u001b[1;36m, line \u001b[1;32m5\u001b[0m\n\u001b[1;33m    if small + big = goal:\u001b[0m\n\u001b[1;37m                   ^\u001b[0m\n\u001b[1;31mSyntaxError\u001b[0m\u001b[1;31m:\u001b[0m invalid syntax\n"
     ]
    }
   ],
   "source": [
    "def make_bricks(small, big, goal):\n",
    "    small = small * 1\n",
    "    big = big * 5\n",
    "    \n",
    "    if small + big = goal:\n",
    "        return True;\n",
    "    else:\n",
    "        return False;\n",
    "    "
   ]
  },
  {
   "cell_type": "code",
   "execution_count": null,
   "metadata": {},
   "outputs": [],
   "source": []
  }
 ],
 "metadata": {
  "kernelspec": {
   "display_name": "Python 3",
   "language": "python",
   "name": "python3"
  },
  "language_info": {
   "codemirror_mode": {
    "name": "ipython",
    "version": 3
   },
   "file_extension": ".py",
   "mimetype": "text/x-python",
   "name": "python",
   "nbconvert_exporter": "python",
   "pygments_lexer": "ipython3",
   "version": "3.7.3"
  }
 },
 "nbformat": 4,
 "nbformat_minor": 2
}
